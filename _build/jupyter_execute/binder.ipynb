{
 "cells": [
  {
   "cell_type": "markdown",
   "metadata": {},
   "source": [
    "# Binder\n",
    "\n",
    "Binder ([https://mybinder.org](https://mybinder.org)) biedt een laagdrempelige manier om Jupyter Notebooks uit te voeren.\n",
    "Via een binder-link met daarin de naam van een GitHub-repository wordt een virtuele machine aangemaakt om de Notebooks in dat repository uit te voeren.\n",
    "\n",
    "Deze virtuele machine blijft actief zolang je deze (interactief) gebruikt; als je deze een aantal minuten niet gebruikt hebt, verdwijnt deze weer."
   ]
  },
  {
   "cell_type": "markdown",
   "metadata": {},
   "source": [
    "## Tips"
   ]
  },
  {
   "cell_type": "markdown",
   "metadata": {},
   "source": [
    "### Bewaren en herstellen in de browser\n",
    "\n",
    "Als de binder-virtuele machine verdwijnt, verdwijnen ook de gegevens en opdrachten die je ingevoerd hebt.\n",
    "Dit kan lastig zijn als je met een complexe opdracht in een notebook bezig bent.\n",
    "\n",
    "```{image} images/jupyter-binder-save.png\n",
    ":width: 400px\n",
    ":align: center\n",
    "```\n",
    "\n",
    "Via twee knoppen bovenin het notebook-interface kun je de inhoud van je notebook in de browser bewaren,\n",
    "en later weer herstellen:\n",
    "\n",
    "* bewaar de toestand van je notebook in de browser, en verlaat de virtuele machine;\n",
    "* ... enige tijd later...\n",
    "* start via Binder een virtuele machine met hetzelfde notebook (in dezelfde browser);\n",
    "* herlaad de bewaarde toestand in het notebook."
   ]
  },
  {
   "cell_type": "markdown",
   "metadata": {},
   "source": [
    "### Andere notebooks in het repository\n",
    "\n",
    "Binder start een virtuele machine op met alle notebooks in het GitHub-repository.\n",
    "Op de volgende manier kun je navigeren naar de andere notebooks:\n",
    "\n",
    "* klik op het jupyter-logo linksboven om naar de lijst met bestanden te gaan\n",
    "    * open bij voorkeur deze lijst in een nieuwe pagina in de browser;\n",
    "    * anders krijg je mogelijk de vraag of je de huidige pagina wilt verlaten (OK).\n",
    "* in de lijst met bestanden kun je een Jupyter notebook openen door op het bestand te klikken\n",
    "* je kunt meerdere notebooks open hebben, in verschillende browser-vensters/tabbladen.\n",
    "\n",
    "Je kunt eerst ook het repository op GitHub bekijken, om na te gaan welke bestanden en notebooks je daar kunt vinden.\n",
    "Je vindt dit repository via de \"repository\"-knop, onder het GitHub logo (octocat) bovenin."
   ]
  },
  {
   "cell_type": "markdown",
   "metadata": {},
   "source": [
    "## Andere Notebook-platformen\n",
    "\n",
    "Je kunt Jupyter Notebook op je eigen computer installeren, bijvoorbeeld via Anaconda ([https://anaconda.org](https://anaconda.org)).\n",
    "\n"
   ]
  },
  {
   "cell_type": "code",
   "execution_count": null,
   "metadata": {},
   "outputs": [],
   "source": []
  }
 ],
 "metadata": {
  "kernelspec": {
   "display_name": "Python 3",
   "language": "python",
   "name": "python3"
  },
  "language_info": {
   "codemirror_mode": {
    "name": "ipython",
    "version": 3
   },
   "file_extension": ".py",
   "mimetype": "text/x-python",
   "name": "python",
   "nbconvert_exporter": "python",
   "pygments_lexer": "ipython3",
   "version": "3.7.9"
  }
 },
 "nbformat": 4,
 "nbformat_minor": 4
}