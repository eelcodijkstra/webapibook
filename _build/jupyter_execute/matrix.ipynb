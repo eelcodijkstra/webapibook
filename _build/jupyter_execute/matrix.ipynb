{
 "cells": [
  {
   "cell_type": "markdown",
   "metadata": {},
   "source": [
    "# Matrix instant messaging\n",
    "\n",
    "Matrix (https://matrix.org) is een *instant messaging* toepassing, te vergelijken met IRC, Slack, Telegram, WhatsApp en dergelijke.\n",
    "Matrix onderscheidt zich van de andere berichtendiensten door het open karakter.\n",
    "Niet alleen is de software open source, de toepassing is helemaal gericht op het onderling verknopen (federation) van berichtentdiensten. Je kunt met je eigen Matrix-server (Selenium) werken, als je dat wilt, en deze in het Matrix-netwerk op laten nemen.\n",
    "Via *bridges* koppel je Matrix aan andere berichtendiensten, zoals IRC, Slack en dergelijke.\n",
    "\n",
    "Daarnaast is de dienst goed beveiligd, met de mogelijkheid van end-to-end encryption.\n",
    "\n",
    "> In Europa wordt Matrix op een aantal plaatsen door overheden ingezet als alternatief voor de commerciële aanbieders uit vooral de USA. Hiermee is het onder andere gemakkelijker om privacy en security af te dwingen zonder inmenging van buiten.\n",
    "\n",
    "Je kunt Matrix ook combineren met audio- of videoverbindingen.\n",
    "\n",
    "Voor Matrix zijn er verschillende *clients* beschikbaar. Hiervan is *Element* (https://element.io) wel de belangrijkste.\n"
   ]
  },
  {
   "cell_type": "markdown",
   "metadata": {},
   "source": [
    "## Matrix terminologie\n",
    "\n",
    "* *room*: de plek waar berichten over een bepaald onderwerp uitgewisseld worden; je kunt dit ook zien als een gesprek. Een room heeft een naam, bijvoorbeeld:  `+infvo-test:matrix.org`???\n",
    "* *community*: een groep waaraan *rooms* en *users* gekoppeld kunnen zijn?? Bijvoorbeeld: `+infvo:matrix.org`\n",
    "* *user*: een gebruiker geef je aan het een `@`, bijvoorbeeld `@infvobot:matrix.org`.\n",
    "\n",
    "Ewn *room* heeft een verzameling gebruikers; sommige rooms zijn vrij toegankelijk, terwijl andere rooms alleen werken met uitgenodigde deelnemers (invited). Het deelnemen aan een room heet \"join\".\n",
    "\n",
    "In de API's worden in plaats van de normale namen vaak IDs gebruikt. Deze kun je achterhalen via de API, of via het user interface (web of Element)."
   ]
  },
  {
   "cell_type": "markdown",
   "metadata": {},
   "source": [
    "## Matrix API\n",
    "\n",
    "De Matrix client-server API vind je op https://matrix.org/docs/api/client-server/.\n",
    "Bij de uitleg vind je daar ook de mogelijkheid om queries uit te proberen.\n",
    "\n",
    "Voor ons zijn de belangrijkste functies:\n",
    "\n",
    "* https://matrix.org/docs/api/client-server/#!/Session32management/login: als resultaat van de login krijg je een *access token* dat je in de andere API-aanroepen gebruikt voor authenticatie.\n",
    "* \n",
    "\n",
    "Voordat je via de API de berichten in een "
   ]
  },
  {
   "cell_type": "markdown",
   "metadata": {},
   "source": [
    "## Login en token\n",
    "\n",
    "Voor de authenticatie van de API-requests heb je een *access token* nodig.\n",
    "Dit kun je krijgen door een login-request, waarbij je username en password nodig hebt.\n",
    "\n",
    "> Je kunt dit access token vergelijken met een cookie dat de HTTP-server bij de browser achterlaat,\n",
    "  nadat een gebruiker ingelogd heeft. Dit cookie wordt dan met alle volgende requests vanuit de browser\n",
    "  naar de server gestuurd. Dit fungeert dan als authenticatie van deze volgende requests. "
   ]
  },
  {
   "cell_type": "code",
   "execution_count": null,
   "metadata": {},
   "outputs": [],
   "source": [
    "import requests\n",
    "import urllib"
   ]
  },
  {
   "cell_type": "code",
   "execution_count": null,
   "metadata": {},
   "outputs": [],
   "source": [
    "matrix_username = input(\"Matrix username: \")\n",
    "matrix_password = input(\"Matrix password: \")\n",
    "msgnr = 1"
   ]
  },
  {
   "cell_type": "code",
   "execution_count": null,
   "metadata": {},
   "outputs": [],
   "source": [
    "request_data = {\n",
    "  \"identifier\": {\n",
    "    \"type\": \"m.id.user\",\n",
    "    \"user\": \"infvobot\"\n",
    "  },\n",
    "  \"initial_device_display_name\": matrix_username,\n",
    "  \"password\": matrix_password,\n",
    "  \"type\": \"m.login.password\"\n",
    "}"
   ]
  },
  {
   "cell_type": "code",
   "execution_count": null,
   "metadata": {},
   "outputs": [],
   "source": [
    "r = requests.post('https://matrix.org/_matrix/client/r0/login', json=request_data)"
   ]
  },
  {
   "cell_type": "markdown",
   "metadata": {},
   "source": [
    "Als de query succesvol is (code 200), dan vinden we het access_token in het resultaat.\n",
    "Dit access-token gebruiken we in de volgende API-aanroepen voor de authenticatie en autorisatie."
   ]
  },
  {
   "cell_type": "code",
   "execution_count": null,
   "metadata": {},
   "outputs": [],
   "source": [
    "if r.status_code == 200:\n",
    "    display(r.json())\n",
    "    access_token = r.json()['access_token']\n",
    "else:\n",
    "    display(r.status_code)\n",
    "    access_token = \"no-access-token\""
   ]
  },
  {
   "cell_type": "markdown",
   "metadata": {},
   "source": [
    "## Room en room_id\n",
    "\n",
    "Voordat een gebruiker berichten kan plaatsen in een *room*, moet deze eerst toegang krijgen.\n",
    "Voor besloten *rooms* betekent dit dat de gebruiker uitgenodigd moet worden (*invite*),\n",
    "waarna de gebruiker deel kan nemen in de room (*join*).\n",
    "\n",
    "We gaan er hieronder vanuit dat de betreffende gebruiker toegang heeft tot de room.\n",
    "In Element vind je de room_id via de (...)room-options->instellingen->geavanceerd."
   ]
  },
  {
   "cell_type": "code",
   "execution_count": null,
   "metadata": {},
   "outputs": [],
   "source": [
    "room_id = \"!ZxQixdOxFLFZDVEFam:matrix.org\""
   ]
  },
  {
   "cell_type": "markdown",
   "metadata": {},
   "source": [
    "## Sturen van een bericht\n",
    "\n",
    "Als eerste stap versturen we een bericht naar de betreffende *room*.\n",
    "Berichten worden genummerd om ervoor te zorgen dat eenzelfde bericht maar één keer geplaatst wordt,\n",
    "ook als dit meermalen verstuurd wordt. (*idempotent* gedrag). \n",
    "Berichten met een lager nummer dan het laatst ontvangen nummer worden niet geplaatst.\n",
    "(Dit geeft bovendien bescherming tegen \"replay attacks\"?)"
   ]
  },
  {
   "cell_type": "code",
   "execution_count": null,
   "metadata": {},
   "outputs": [],
   "source": []
  },
  {
   "cell_type": "code",
   "execution_count": null,
   "metadata": {},
   "outputs": [],
   "source": [
    "msgnr = msgnr + 1\n",
    "msg = {\n",
    "  \"msgtype\": \"m.text\",\n",
    "  \"body\": \"Hallo! Hier is \" + matrix_username\n",
    "}\n",
    "url1 = \"https://matrix.org/_matrix/client/r0/rooms/{roomid}/send/m.room.message/{txnr}?access_token={token}\".format(\n",
    "          roomid = room_id, txnr = str(msgnr), token = access_token\n",
    "       )\n",
    "url1"
   ]
  },
  {
   "cell_type": "code",
   "execution_count": null,
   "metadata": {},
   "outputs": [],
   "source": []
  },
  {
   "cell_type": "code",
   "execution_count": null,
   "metadata": {},
   "outputs": [],
   "source": [
    "snd = requests.put(url1, json=msg)\n",
    "if snd.status_code == 200:\n",
    "    event_id = snd.json()[\"event_id\"]\n",
    "    display(event_id)\n",
    "else:\n",
    "    display(snd.status_code)"
   ]
  },
  {
   "cell_type": "markdown",
   "metadata": {},
   "source": [
    "## Ontvangen van berichten"
   ]
  },
  {
   "cell_type": "code",
   "execution_count": null,
   "metadata": {},
   "outputs": [],
   "source": [
    "url2 = \"https://matrix.org/_matrix/client/r0/rooms/{roomid}/context/{eventid}?access_token={token}\".format(\n",
    "          roomid = urllib.parse.quote(room_id), \n",
    "          eventid = urllib.parse.quote(event_id), \n",
    "          token = access_token\n",
    "       )\n",
    "url2"
   ]
  },
  {
   "cell_type": "code",
   "execution_count": null,
   "metadata": {},
   "outputs": [],
   "source": [
    "r2 = requests.get(url2)"
   ]
  },
  {
   "cell_type": "code",
   "execution_count": null,
   "metadata": {},
   "outputs": [],
   "source": [
    "r2.json()"
   ]
  },
  {
   "cell_type": "markdown",
   "metadata": {},
   "source": [
    "Verwerken van deze context: filteren van relevante berichten. (NB: deze berichten staan in omgekeerde volgorde.)\n",
    "\n",
    "> ??Kunnen we de tijd hierbij vermelden?"
   ]
  },
  {
   "cell_type": "code",
   "execution_count": null,
   "metadata": {},
   "outputs": [],
   "source": [
    "context = r2.json()\n",
    "for msg in context[\"events_before\"]:\n",
    "    if msg[\"type\"] == \"m.room.message\":\n",
    "        print(msg[\"sender\"], \": \", msg[\"content\"][\"body\"])"
   ]
  },
  {
   "cell_type": "markdown",
   "metadata": {},
   "source": [
    "Het eigenlijke protocol is om eerst \"sync\" te gebruiken: dit geeft de toestand voor alle verbonden rooms.\n",
    "De volgende berichten kun je dan per room opvragen via \"messages\".\n",
    "Daarbij geef je steeds de eventid mee van het laatst ontvangen bericht (\"prev batch\")."
   ]
  },
  {
   "cell_type": "code",
   "execution_count": null,
   "metadata": {},
   "outputs": [],
   "source": [
    "url3 = \"https://matrix.org/_matrix/client/r0/sync?access_token={token}\".format(\n",
    "          token = access_token\n",
    "       )\n",
    "url3"
   ]
  },
  {
   "cell_type": "code",
   "execution_count": null,
   "metadata": {},
   "outputs": [],
   "source": [
    "r3 = requests.get(url3)\n",
    "if r3.status_code == 200:\n",
    "    display(r3.json())\n",
    "    result = r3.json()\n",
    "    next_batch = r3.json()[\"next_batch\"]\n",
    "else:\n",
    "    display(r3.status_code)\n",
    "    "
   ]
  },
  {
   "cell_type": "markdown",
   "metadata": {},
   "source": [
    "NB: ik heb de `prev_batch` van de betreffende room nodig..."
   ]
  },
  {
   "cell_type": "code",
   "execution_count": null,
   "metadata": {},
   "outputs": [],
   "source": [
    "result = r3.json()"
   ]
  },
  {
   "cell_type": "code",
   "execution_count": null,
   "metadata": {},
   "outputs": [],
   "source": [
    "result[\"rooms\"][\"join\"][room_id][\"timeline\"][\"prev_batch\"]"
   ]
  },
  {
   "cell_type": "code",
   "execution_count": null,
   "metadata": {},
   "outputs": [],
   "source": [
    "events = result[\"rooms\"][\"join\"][room_id][\"timeline\"][\"events\"]\n",
    "for event in events:\n",
    "    if event[\"type\"] == \"m.room.message\":\n",
    "        print(event[\"sender\"], \": \", event[\"content\"][\"body\"])"
   ]
  },
  {
   "cell_type": "code",
   "execution_count": null,
   "metadata": {},
   "outputs": [],
   "source": []
  }
 ],
 "metadata": {
  "kernelspec": {
   "display_name": "Python 3",
   "language": "python",
   "name": "python3"
  },
  "language_info": {
   "codemirror_mode": {
    "name": "ipython",
    "version": 3
   },
   "file_extension": ".py",
   "mimetype": "text/x-python",
   "name": "python",
   "nbconvert_exporter": "python",
   "pygments_lexer": "ipython3",
   "version": "3.7.9"
  }
 },
 "nbformat": 4,
 "nbformat_minor": 4
}