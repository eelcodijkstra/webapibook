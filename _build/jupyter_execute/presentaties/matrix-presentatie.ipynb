{
 "cells": [
  {
   "cell_type": "markdown",
   "metadata": {
    "slideshow": {
     "slide_type": "slide"
    }
   },
   "source": [
    "# Matrix instant messaging"
   ]
  },
  {
   "cell_type": "markdown",
   "metadata": {
    "slideshow": {
     "slide_type": "slide"
    }
   },
   "source": [
    "Matrix (https://matrix.org)\n",
    "\n",
    "* instant messaging (vgl. IRC, Slacj, WhatsApp, ...)\n",
    "* open: open source, zelf hosten van server\n",
    "* federatie van Matrix-servers\n",
    "* bridges naar andere IM-diensten\n",
    "* App: https://element.io"
   ]
  },
  {
   "cell_type": "markdown",
   "metadata": {
    "slideshow": {
     "slide_type": "skip"
    }
   },
   "source": [
    "# Matrix instant messaging\n",
    "\n",
    "Matrix (https://matrix.org) is een *instant messaging* toepassing, te vergelijken met IRC, Slack, Telegram, WhatsApp en dergelijke.\n",
    "Matrix onderscheidt zich van de andere berichtendiensten door het open karakter.\n",
    "Niet alleen is de software open source, de toepassing is helemaal gericht op het onderling verknopen (federation) van berichtentdiensten. Je kunt met je eigen Matrix-server (Selenium) werken, als je dat wilt, en deze in het Matrix-netwerk op laten nemen.\n",
    "Via *bridges* koppel je Matrix aan andere berichtendiensten, zoals IRC, Slack en dergelijke.\n",
    "\n",
    "Daarnaast is de dienst goed beveiligd, met de mogelijkheid van end-to-end encryption.\n",
    "\n",
    "> In Europa wordt Matrix op een aantal plaatsen door overheden ingezet als alternatief voor de commerciële aanbieders uit vooral de USA. Hiermee is het onder andere gemakkelijker om privacy en security af te dwingen zonder inmenging van buiten.\n",
    "\n",
    "Je kunt Matrix ook combineren met audio- of videoverbindingen.\n",
    "\n",
    "Voor Matrix zijn er verschillende *clients* beschikbaar. Hiervan is *Element* (https://element.io) wel de belangrijkste. Deze kun je in de browser gebruiken, als desktop-applicatie, of als mobiele app.\n",
    "\n",
    "```{admonition} Meld je aan bij Matrix\n",
    "Voor de volgende opdrachten is het nodig dat je een gratis Matrix-account aanmaakt via https://element.io.\n",
    "Let op, je krijgt de bevestigingsmail van matrix.org; soms belandt deze in je spam-box.\n",
    "Stuur als het gelukt is even een bericht naar `@eelcod:matrix.org`.\n",
    "```"
   ]
  },
  {
   "cell_type": "markdown",
   "metadata": {
    "slideshow": {
     "slide_type": "slide"
    }
   },
   "source": [
    "## Termen\n",
    "\n",
    "* (chat)room: het gesprek - bijv. `#infvo-test:matrix.org`\n",
    "* user - bijv. `@infvobot:matrix.org`\n",
    "* community - bijv. `+infvo:matrix.org`\n",
    "\n",
    "*room* heeft een verzameling *users*; vaak alleen op uitnodiging.\n",
    "\n",
    "room_id: gebruikt in API in plaats van naam"
   ]
  },
  {
   "cell_type": "markdown",
   "metadata": {
    "slideshow": {
     "slide_type": "skip"
    }
   },
   "source": [
    "## Matrix terminologie\n",
    "\n",
    "* *room*: de plek waar berichten over een bepaald onderwerp uitgewisseld worden; je kunt dit ook zien als een gesprek. Een room heeft een naam, bijvoorbeeld:  `#infvo-test:matrix.org`\n",
    "* *community*: een groep waaraan *rooms* en *users* gekoppeld kunnen zijn. Bijvoorbeeld: `+infvo:matrix.org`\n",
    "* *user*: een gebruiker geef je aan met een `@`, bijvoorbeeld `@infvobot:matrix.org`.\n",
    "\n",
    "Ewn *room* heeft een verzameling gebruikers; sommige rooms zijn vrij toegankelijk, terwijl andere rooms alleen werken met uitgenodigde deelnemers (invited). Het deelnemen aan een room heet *join*.\n",
    "\n",
    "In de API's worden in plaats van de normale namen vaak IDs gebruikt. Deze kun je achterhalen via de API, of via het user interface (web of Element).\n",
    "\n",
    "* https://www.snoyman.com/blog/2018/05/guide-to-matrix-riot"
   ]
  },
  {
   "cell_type": "markdown",
   "metadata": {
    "slideshow": {
     "slide_type": "slide"
    }
   },
   "source": [
    "## Matrix API\n",
    "\n",
    "Zie:  https://matrix.org/docs/api/client-server/\n",
    "\n",
    "* POST /_matrix/client/r0/login\n",
    "* PUT  /_matrix/client/r0/rooms/{id}/send/m.room.message/{nd}\n",
    "* GET  /_matrix/client/r0/sync\n",
    "* GET  /_matrix/client/r0/rooms/{roomID}/messages\n"
   ]
  },
  {
   "cell_type": "markdown",
   "metadata": {
    "slideshow": {
     "slide_type": "skip"
    }
   },
   "source": [
    "## Matrix API\n",
    "\n",
    "De Matrix client-server API vind je op https://matrix.org/docs/api/client-server/.\n",
    "Bij de uitleg vind je daar ook de mogelijkheid om queries uit te proberen.\n",
    "\n",
    "Voor ons zijn de belangrijkste functies:\n",
    "\n",
    "* POST https://matrix.org/_matrix/client/r0/login: dit geeft als resultaat een *access token* dat je in de volgende API-aanroepen gebruikt voor authenticatie.\n",
    "* PUT https://matrix.org/_matrix/client/r0/rooms/{roomID}/send/m.room.message/{txnr}: verstuur een bericht met volgnr *txnr* naar de genoemde *room*.\n",
    "* GET https://matrix.org/_matrix/client/r0/sync: synchroniseer de ontvanger met de toestand van de verbonden *rooms*. \n",
    "* GET https://matrix.org/_matrix/client/r0/rooms/{roomID}/messages: de berichten sinds de vorige opvraging\n"
   ]
  },
  {
   "cell_type": "markdown",
   "metadata": {
    "slideshow": {
     "slide_type": "skip"
    }
   },
   "source": [
    "## Login en token\n",
    "\n",
    "Voor de authenticatie van de API-requests heb je een *access token* nodig.\n",
    "Dit kun je krijgen door een login-request, waarbij je username en password nodig hebt.\n",
    "\n",
    "> Je kunt dit access token vergelijken met een cookie dat de HTTP-server bij de browser achterlaat,\n",
    "  nadat een gebruiker ingelogd heeft. Dit cookie wordt dan met alle volgende requests vanuit de browser\n",
    "  naar de server gestuurd. Dit fungeert dan als authenticatie van deze volgende requests. "
   ]
  },
  {
   "cell_type": "markdown",
   "metadata": {
    "slideshow": {
     "slide_type": "slide"
    }
   },
   "source": [
    "## Login voor API-token"
   ]
  },
  {
   "cell_type": "code",
   "execution_count": null,
   "metadata": {},
   "outputs": [],
   "source": [
    "import requests\n",
    "import json\n",
    "import urllib"
   ]
  },
  {
   "cell_type": "markdown",
   "metadata": {
    "slideshow": {
     "slide_type": "skip"
    }
   },
   "source": [
    "Om te voorkomen dat de username/password-combinatie in de code van het Jupyter Notebook opgenomen wordt, moet je deze invoeren bij het uitvoeren van de onderstaande cel. Voer de cel uit (Shift-Enter); voer dan de *username* in gevolgd door Return; en dan het *password* gevolgd door Return. Navigeer met de pijl naar beneden naar de volgende cel."
   ]
  },
  {
   "cell_type": "markdown",
   "metadata": {
    "slideshow": {
     "slide_type": "subslide"
    }
   },
   "source": [
    "### Username en password"
   ]
  },
  {
   "cell_type": "code",
   "execution_count": null,
   "metadata": {},
   "outputs": [],
   "source": [
    "matrix_username = input(\"Matrix username: \")\n",
    "matrix_password = input(\"Matrix password: \")\n",
    "msgnr = 1"
   ]
  },
  {
   "cell_type": "markdown",
   "metadata": {
    "slideshow": {
     "slide_type": "skip"
    }
   },
   "source": [
    "Volgens de API-beschrijving moet je onderstaande gegevens als data meesturen bij het login-request."
   ]
  },
  {
   "cell_type": "markdown",
   "metadata": {
    "slideshow": {
     "slide_type": "subslide"
    }
   },
   "source": [
    "### Login-data"
   ]
  },
  {
   "cell_type": "code",
   "execution_count": null,
   "metadata": {
    "slideshow": {
     "slide_type": "-"
    }
   },
   "outputs": [],
   "source": [
    "request_data = {\n",
    "  \"identifier\": {\n",
    "    \"type\": \"m.id.user\",\n",
    "    \"user\": matrix_username\n",
    "  },\n",
    "  \"initial_device_display_name\": matrix_username,\n",
    "  \"password\": matrix_password,\n",
    "  \"type\": \"m.login.password\"\n",
    "}"
   ]
  },
  {
   "cell_type": "markdown",
   "metadata": {
    "slideshow": {
     "slide_type": "subslide"
    }
   },
   "source": [
    "### Login: POST request"
   ]
  },
  {
   "cell_type": "code",
   "execution_count": null,
   "metadata": {},
   "outputs": [],
   "source": [
    "r = requests.post('https://matrix.org/_matrix/client/r0/login', json=request_data)"
   ]
  },
  {
   "cell_type": "markdown",
   "metadata": {
    "slideshow": {
     "slide_type": "skip"
    }
   },
   "source": [
    "Als de query succesvol is (code 200), dan vinden we het access_token in het resultaat.\n",
    "Dit access-token gebruiken we in de volgende API-aanroepen voor de authenticatie en autorisatie."
   ]
  },
  {
   "cell_type": "code",
   "execution_count": null,
   "metadata": {
    "slideshow": {
     "slide_type": "subslide"
    }
   },
   "outputs": [],
   "source": [
    "if r.status_code == 200:\n",
    "    display(r.json())\n",
    "    access_token = r.json()['access_token']\n",
    "else:\n",
    "    display(r.status_code)\n",
    "    access_token = \"no-access-token\""
   ]
  },
  {
   "cell_type": "code",
   "execution_count": null,
   "metadata": {},
   "outputs": [],
   "source": [
    "access_token"
   ]
  },
  {
   "cell_type": "markdown",
   "metadata": {
    "slideshow": {
     "slide_type": "skip"
    }
   },
   "source": [
    "## Room en room_id\n",
    "\n",
    "Voordat een gebruiker berichten kan plaatsen in een *room*, moet deze eerst toegang krijgen.\n",
    "Voor besloten *rooms* betekent dit dat de gebruiker uitgenodigd moet worden (*invite*),\n",
    "waarna de gebruiker deel kan nemen in de room (*join*).\n",
    "\n",
    "We gaan er hieronder vanuit dat de betreffende gebruiker toegang heeft tot de room.\n",
    "In Element vind je de room_id via de (...)room-options->instellingen->geavanceerd."
   ]
  },
  {
   "cell_type": "markdown",
   "metadata": {
    "slideshow": {
     "slide_type": "slide"
    }
   },
   "source": [
    "## Rooom_id"
   ]
  },
  {
   "cell_type": "code",
   "execution_count": null,
   "metadata": {},
   "outputs": [],
   "source": [
    "room_id = input(\"Room ID? \")\n",
    "print(\"Ingevulde room_id: \", room_id)"
   ]
  },
  {
   "cell_type": "markdown",
   "metadata": {
    "slideshow": {
     "slide_type": "skip"
    }
   },
   "source": [
    "## Sturen van een bericht\n",
    "\n",
    "Als eerste stap versturen we een bericht naar de betreffende *room*.\n",
    "Berichten worden genummerd om ervoor te zorgen dat eenzelfde bericht maar één keer geplaatst wordt,\n",
    "ook als dit meermalen verstuurd wordt (*idempotent* gedrag). \n",
    "Berichten met een lager nummer dan het laatst ontvangen nummer worden niet geplaatst."
   ]
  },
  {
   "cell_type": "markdown",
   "metadata": {
    "slideshow": {
     "slide_type": "slide"
    }
   },
   "source": [
    "## Sturen van een bericht\n",
    "\n",
    "Het bericht (tekst) met volgnr. en de URL:"
   ]
  },
  {
   "cell_type": "code",
   "execution_count": null,
   "metadata": {},
   "outputs": [],
   "source": [
    "msgnr = msgnr + 1\n",
    "msg1 = {\n",
    "  \"msgtype\": \"m.text\",\n",
    "  \"body\": \"Hallo! Hier is \" + matrix_username\n",
    "}\n",
    "url1 = \"https://matrix.org/_matrix/client/r0/rooms/{roomid}/send/m.room.message/{txnr}?access_token={token}\".format(\n",
    "          roomid = room_id, txnr = str(msgnr), token = access_token\n",
    "       )\n",
    "url1"
   ]
  },
  {
   "cell_type": "markdown",
   "metadata": {
    "slideshow": {
     "slide_type": "subslide"
    }
   },
   "source": [
    "### Send: PUT-request"
   ]
  },
  {
   "cell_type": "code",
   "execution_count": null,
   "metadata": {},
   "outputs": [],
   "source": [
    "snd = requests.put(url1, json=msg1)\n",
    "if snd.status_code == 200:\n",
    "    event_id = snd.json()[\"event_id\"]\n",
    "    display(event_id)\n",
    "else:\n",
    "    display(snd.status_code)"
   ]
  },
  {
   "cell_type": "markdown",
   "metadata": {
    "slideshow": {
     "slide_type": "slide"
    }
   },
   "source": [
    "## Ontvangen van berichten\n",
    "\n",
    "1. sync - geeft toestand (incl. history) van alle rooms\n",
    "2. get messages - herhalen voor nieuwe berichten"
   ]
  },
  {
   "cell_type": "markdown",
   "metadata": {
    "slideshow": {
     "slide_type": "skip"
    }
   },
   "source": [
    "Het ontvangen van berichten is nogal wat ingewikkelder dan het versturen van een bericht.\n",
    "In principe kan er in de *timeline* van de *room* al een flinke lijst van berichten zijn die op dit moment nog niet ontvangen zijn. En tussen twee verzoeken om nieuwe berichten kunnen er meerdere berichten ontvangen zijn.\n",
    "\n",
    "> Naast de ontvangen berichten bevat de *timeline* van een *room* ook andere *events*, zoals de *join* van een nieuwe gebruiker. Het hangt van je toepassing af of je dit soort *events* wilt verwerken. In de voorbeelden hieronder gaat het ons alleen om de ontvangen berichten.\n",
    "\n",
    "De manier van het ontvangen berichten verloopt als volgt:\n",
    "\n",
    "1. synchroniseer (\"sync\") de ontvanger met de server (dit geeft o.a. de waarde voor \"prev_batch\")\n",
    "2. (herhaald) bijwerken van de ontvangen berichten (steeds \"prev_batch\" bijwerken)\n",
    "\n",
    "Het eigenlijke protocol is om eerst \"sync\" te gebruiken: dit geeft de toestand voor alle verbonden rooms.\n",
    "De volgende berichten kun je dan per room opvragen via \"messages\". Deze sync geeft ook de waarde voor \"prev_batch\" waarmee de volgende reeks ontvangen berichten begint.\n",
    "Daarbij geef je steeds de *eventid* mee van het laatst ontvangen bericht (\"prev_batch\")."
   ]
  },
  {
   "cell_type": "code",
   "execution_count": null,
   "metadata": {},
   "outputs": [],
   "source": [
    "url2 = \"https://matrix.org/_matrix/client/r0/sync?access_token={token}\".format(\n",
    "          token = access_token\n",
    "       )\n",
    "url2"
   ]
  },
  {
   "cell_type": "code",
   "execution_count": null,
   "metadata": {
    "slideshow": {
     "slide_type": "subslide"
    }
   },
   "outputs": [],
   "source": [
    "r2 = requests.get(url2)\n",
    "if r2.status_code == 200:\n",
    "    display(r2.json())\n",
    "    result = r2.json()\n",
    "    prev_batch = result[\"rooms\"][\"join\"][room_id][\"timeline\"][\"prev_batch\"]\n",
    "else:\n",
    "    display(r2.status_code)"
   ]
  },
  {
   "cell_type": "code",
   "execution_count": null,
   "metadata": {
    "slideshow": {
     "slide_type": "subslide"
    }
   },
   "outputs": [],
   "source": [
    "prev_batch"
   ]
  },
  {
   "cell_type": "markdown",
   "metadata": {
    "slideshow": {
     "slide_type": "skip"
    }
   },
   "source": [
    "Voor elke room is er een timeline met events.\n",
    "Er zijn events voor het aanmaken van een room, voor het uitnodigen/join van gebruikers, enz.\n",
    "Wij zijn hier alleen geïnteresseerd in de tekstberichten van type: \"m.room.message\"."
   ]
  },
  {
   "cell_type": "markdown",
   "metadata": {
    "slideshow": {
     "slide_type": "subslide"
    }
   },
   "source": [
    "## Berichten in de historie"
   ]
  },
  {
   "cell_type": "code",
   "execution_count": null,
   "metadata": {
    "slideshow": {
     "slide_type": "-"
    }
   },
   "outputs": [],
   "source": [
    "events = result[\"rooms\"][\"join\"][room_id][\"timeline\"][\"events\"]\n",
    "for event in events:\n",
    "    if event[\"type\"] == \"m.room.message\":\n",
    "        print(event[\"sender\"], \": \", event[\"content\"][\"body\"])"
   ]
  },
  {
   "cell_type": "markdown",
   "metadata": {
    "slideshow": {
     "slide_type": "slide"
    }
   },
   "source": [
    "## Opvragen van nieuwe berichten\n",
    "\n",
    "\"messages\" URL; bijwerken `prev_batch`"
   ]
  },
  {
   "cell_type": "code",
   "execution_count": null,
   "metadata": {
    "slideshow": {
     "slide_type": "-"
    }
   },
   "outputs": [],
   "source": [
    "url3 = \"https://matrix.org/_matrix/client/r0/rooms/{roomid}/messages?access_token={token}&from={prev}\".format(\n",
    "          roomid = room_id,\n",
    "          token = access_token,\n",
    "          prev = prev_batch\n",
    "       )\n",
    "\n",
    "r3 = requests.get(url3)\n",
    "r3.status_code"
   ]
  },
  {
   "cell_type": "code",
   "execution_count": null,
   "metadata": {},
   "outputs": [],
   "source": [
    "result3 = r3.json()\n",
    "result3"
   ]
  },
  {
   "cell_type": "code",
   "execution_count": null,
   "metadata": {
    "slideshow": {
     "slide_type": "subslide"
    }
   },
   "outputs": [],
   "source": [
    "prev_batch = result3[\"end\"]\n",
    "prev_batch"
   ]
  },
  {
   "cell_type": "markdown",
   "metadata": {
    "slideshow": {
     "slide_type": "subslide"
    }
   },
   "source": [
    "### De nieuwe berichten"
   ]
  },
  {
   "cell_type": "code",
   "execution_count": null,
   "metadata": {
    "slideshow": {
     "slide_type": "-"
    }
   },
   "outputs": [],
   "source": [
    "events = result3[\"chunk\"]\n",
    "for event in events:\n",
    "    if event[\"type\"] == \"m.room.message\":\n",
    "        print(event[\"sender\"], \": \", event[\"content\"][\"body\"])"
   ]
  },
  {
   "cell_type": "markdown",
   "metadata": {
    "slideshow": {
     "slide_type": "slide"
    }
   },
   "source": [
    "## Functie get_messages(last_msg)\n",
    "\n",
    "resultaat: `(messages, last_msg)`"
   ]
  },
  {
   "cell_type": "code",
   "execution_count": null,
   "metadata": {
    "slideshow": {
     "slide_type": "-"
    }
   },
   "outputs": [],
   "source": [
    "def get_messages(last_msg):\n",
    "    global room_id, access_token\n",
    "    url = \"https://matrix.org/_matrix/client/r0/rooms/{roomid}/messages?access_token={token}&from={prev}\".format(\n",
    "          roomid = room_id,\n",
    "          token = access_token,\n",
    "          prev = last_msg\n",
    "       )\n",
    "    res = requests.get(url)\n",
    "    if res.status_code != 200:\n",
    "        return[]\n",
    "    result = res.json()\n",
    "    last_msg = result[\"end\"]\n",
    "    return (result[\"chunk\"], last_msg)    "
   ]
  },
  {
   "cell_type": "markdown",
   "metadata": {
    "slideshow": {
     "slide_type": "slide"
    }
   },
   "source": [
    "## Ophalen nieuwe berichten\n",
    "\n",
    "Voor de volgende cel herhaald uit"
   ]
  },
  {
   "cell_type": "code",
   "execution_count": null,
   "metadata": {
    "slideshow": {
     "slide_type": "-"
    }
   },
   "outputs": [],
   "source": [
    "(mesgs, prev_batch) = get_messages(prev_batch)\n",
    "if mesgs == []:\n",
    "    print(\"<no new messages>\")\n",
    "for event in mesgs:\n",
    "    if event[\"type\"] == \"m.room.message\":\n",
    "        print(event[\"sender\"], \": \", event[\"content\"][\"body\"])"
   ]
  },
  {
   "cell_type": "code",
   "execution_count": null,
   "metadata": {},
   "outputs": [],
   "source": []
  }
 ],
 "metadata": {
  "celltoolbar": "Diavoorstelling",
  "kernelspec": {
   "display_name": "Python 3",
   "language": "python",
   "name": "python3"
  },
  "language_info": {
   "codemirror_mode": {
    "name": "ipython",
    "version": 3
   },
   "file_extension": ".py",
   "mimetype": "text/x-python",
   "name": "python",
   "nbconvert_exporter": "python",
   "pygments_lexer": "ipython3",
   "version": "3.7.9"
  },
  "toc": {
   "base_numbering": 1,
   "nav_menu": {},
   "number_sections": false,
   "sideBar": true,
   "skip_h1_title": true,
   "title_cell": "Table of Contents",
   "title_sidebar": "Contents",
   "toc_cell": false,
   "toc_position": {},
   "toc_section_display": true,
   "toc_window_display": false
  }
 },
 "nbformat": 4,
 "nbformat_minor": 4
}