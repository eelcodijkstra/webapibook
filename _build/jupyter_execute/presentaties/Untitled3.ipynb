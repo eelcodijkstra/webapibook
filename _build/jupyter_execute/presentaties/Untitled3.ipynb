{
 "cells": [
  {
   "cell_type": "code",
   "execution_count": 1,
   "metadata": {},
   "outputs": [
    {
     "name": "stdout",
     "output_type": "stream",
     "text": [
      "/bin/bash: elm: command not found\n"
     ]
    }
   ],
   "source": [
    "!elm -v"
   ]
  },
  {
   "cell_type": "code",
   "execution_count": 2,
   "metadata": {},
   "outputs": [
    {
     "name": "stdout",
     "output_type": "stream",
     "text": [
      "/Users/eelco/opt/anaconda3/bin:/Users/eelco/opt/anaconda3/condabin:/usr/bin:/bin:/usr/sbin:/sbin\n"
     ]
    }
   ],
   "source": [
    "!echo $PATH"
   ]
  },
  {
   "cell_type": "code",
   "execution_count": 3,
   "metadata": {},
   "outputs": [
    {
     "data": {
      "text/plain": [
       "['/Users/eelco/stack/books/webapibook/presentaties',\n",
       " '/Users/eelco/opt/anaconda3/lib/python37.zip',\n",
       " '/Users/eelco/opt/anaconda3/lib/python3.7',\n",
       " '/Users/eelco/opt/anaconda3/lib/python3.7/lib-dynload',\n",
       " '',\n",
       " '/Users/eelco/opt/anaconda3/lib/python3.7/site-packages',\n",
       " '/Users/eelco/opt/anaconda3/lib/python3.7/site-packages/aeosa',\n",
       " '/Users/eelco/opt/anaconda3/lib/python3.7/site-packages/IPython/extensions',\n",
       " '/Users/eelco/.ipython']"
      ]
     },
     "execution_count": 3,
     "metadata": {},
     "output_type": "execute_result"
    }
   ],
   "source": [
    "import sys\n",
    "sys.path"
   ]
  },
  {
   "cell_type": "code",
   "execution_count": null,
   "metadata": {},
   "outputs": [],
   "source": []
  }
 ],
 "metadata": {
  "kernelspec": {
   "display_name": "Python 3",
   "language": "python",
   "name": "python3"
  },
  "language_info": {
   "codemirror_mode": {
    "name": "ipython",
    "version": 3
   },
   "file_extension": ".py",
   "mimetype": "text/x-python",
   "name": "python",
   "nbconvert_exporter": "python",
   "pygments_lexer": "ipython3",
   "version": "3.7.9"
  }
 },
 "nbformat": 4,
 "nbformat_minor": 4
}