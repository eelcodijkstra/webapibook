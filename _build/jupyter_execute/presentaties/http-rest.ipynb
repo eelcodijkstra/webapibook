{
 "cells": [
  {
   "cell_type": "markdown",
   "metadata": {
    "slideshow": {
     "slide_type": "slide"
    }
   },
   "source": [
    "# REST API's\n",
    "\n",
    "REpresentational State Transfer\n",
    "\n",
    "* resource: \"ding\" (concreet/abstract/fysiek/virtueel)\n",
    "* URL: Uniform Resource Locator: identificatie van resource\n",
    "* representation (document): beschrijft toestand van resource\n",
    "* methods: voor opvragen en veranderen van resource-toestand\n",
    "    * GET, POST, PUT, DELETE, PATCH, ...\n",
    "    \n",
    "REST is verzameling afspraken/principes,\n",
    "passend bij het web."
   ]
  },
  {
   "cell_type": "markdown",
   "metadata": {
    "slideshow": {
     "slide_type": "slide"
    }
   },
   "source": [
    "## HTTP methods \n",
    "\n",
    "* *idempotent*: geen verschil tussen 1x en vaker\n",
    "* belangrijk bij onbetrouwbare communicatie/uitvoering    \n",
    "    \n",
    "| method | toestand?            | idempotent? |\n",
    "| :--    | :--                  | :--         |\n",
    "| GET    | onveranderd          | ja          |\n",
    "| POST   | veranderd            | nee         |\n",
    "| PUT    | veranderd            | ja          |\n",
    "| DELETE | veranderd            | ja          |    "
   ]
  },
  {
   "cell_type": "markdown",
   "metadata": {
    "slideshow": {
     "slide_type": "slide"
    }
   },
   "source": [
    "## CRUD\n",
    "\n",
    "* methods voor collectie van *things*\n",
    "* en voor individuele *things*\n",
    "\n",
    "| method | `/things`            | `/things/id`            |\n",
    "| :--    | :--                  | :--                     |\n",
    "| GET    | get all things (ids) | get state of thing `id` |\n",
    "| POST   | create new thing     | -                       |\n",
    "| PUT    | -                    | set/update thing `id`   |\n",
    "| DELETE | -                    | delete thing `id`       |"
   ]
  },
  {
   "cell_type": "markdown",
   "metadata": {
    "slideshow": {
     "slide_type": "slide"
    }
   },
   "source": [
    "## Voorbeeld: Trello\n",
    "\n",
    "https://trello.com\n",
    "\n",
    "Begrippen:\n",
    "\n",
    "* boards\n",
    "* lists (per board)\n",
    "* cards (per list)\n",
    "* actions; users; organizations; ...\n",
    "\n",
    "Trello API: https://developer.atlassian.com/cloud/trello/"
   ]
  },
  {
   "cell_type": "markdown",
   "metadata": {
    "slideshow": {
     "slide_type": "slide"
    }
   },
   "source": [
    "## Importeren Python libraries"
   ]
  },
  {
   "cell_type": "code",
   "execution_count": null,
   "metadata": {
    "slideshow": {
     "slide_type": "-"
    }
   },
   "outputs": [],
   "source": [
    "import requests\n",
    "import json"
   ]
  },
  {
   "cell_type": "markdown",
   "metadata": {
    "slideshow": {
     "slide_type": "slide"
    }
   },
   "source": [
    "## Authenticatie/autorisatie\n",
    "\n",
    "API-key: identificeert gebruiker\n",
    "\n",
    "Genereren/ophalen via:\n",
    "\n",
    "* https://trello.com/app-key/"
   ]
  },
  {
   "cell_type": "code",
   "execution_count": null,
   "metadata": {},
   "outputs": [],
   "source": [
    "api_key = input(\"API-key? \")"
   ]
  },
  {
   "cell_type": "markdown",
   "metadata": {
    "slideshow": {
     "slide_type": "slide"
    }
   },
   "source": [
    "## API-token\n",
    "\n",
    "API-token fungeert als username/password\n",
    "\n",
    "Genereren via:"
   ]
  },
  {
   "cell_type": "code",
   "execution_count": null,
   "metadata": {},
   "outputs": [],
   "source": [
    "url = \"https://trello.com/1/authorize?expiration=1day&name=MyTestToken&scope=read,write&response_type=token&key=\" + api_key\n",
    "print(url)"
   ]
  },
  {
   "cell_type": "code",
   "execution_count": null,
   "metadata": {},
   "outputs": [],
   "source": [
    "token = input(\"token? \")"
   ]
  },
  {
   "cell_type": "markdown",
   "metadata": {
    "slideshow": {
     "slide_type": "slide"
    }
   },
   "source": [
    "## Opvragen van borden\n",
    "\n",
    "`parameters` zijn de parameters achter het `?`\n",
    "\n",
    "`fields` geeft aan welke velden in het resultaat nodig zijn."
   ]
  },
  {
   "cell_type": "code",
   "execution_count": null,
   "metadata": {},
   "outputs": [],
   "source": [
    "parameters = {\n",
    "   'key': api_key,\n",
    "   'token': token,\n",
    "   'fields': 'name,id'\n",
    "}"
   ]
  },
  {
   "cell_type": "code",
   "execution_count": null,
   "metadata": {
    "slideshow": {
     "slide_type": "subslide"
    }
   },
   "outputs": [],
   "source": [
    "response = requests.get(\n",
    "   \"https://api.trello.com/1/members/me/boards\",\n",
    "   headers={\"Accept\": \"application/json\"},\n",
    "   params=parameters\n",
    ")\n",
    "response.status_code"
   ]
  },
  {
   "cell_type": "code",
   "execution_count": null,
   "metadata": {},
   "outputs": [],
   "source": [
    "boards = response.json()\n",
    "boards"
   ]
  },
  {
   "cell_type": "code",
   "execution_count": null,
   "metadata": {
    "slideshow": {
     "slide_type": "subslide"
    }
   },
   "outputs": [],
   "source": [
    "for board in boards:\n",
    "    print(board[\"name\"], \" - \", board[\"id\"])"
   ]
  },
  {
   "cell_type": "code",
   "execution_count": null,
   "metadata": {
    "slideshow": {
     "slide_type": "subslide"
    }
   },
   "outputs": [],
   "source": [
    "boards[-1]"
   ]
  },
  {
   "cell_type": "markdown",
   "metadata": {
    "slideshow": {
     "slide_type": "slide"
    }
   },
   "source": [
    "## Opvragen van lists"
   ]
  },
  {
   "cell_type": "code",
   "execution_count": null,
   "metadata": {},
   "outputs": [],
   "source": [
    "board_id = boards[-1][\"id\"]\n",
    "\n",
    "parameters = {\n",
    "   'key': api_key,\n",
    "   'token': token,\n",
    "   'fields': 'name,id' \n",
    "}\n",
    "\n",
    "response = requests.get(\n",
    "   \"https://api.trello.com/1/boards/{id}/lists\".format(\n",
    "       id = board_id\n",
    "   ),\n",
    "   headers={\"Accept\": \"application/json\"},\n",
    "   params=parameters\n",
    ")\n",
    "response.status_code"
   ]
  },
  {
   "cell_type": "code",
   "execution_count": null,
   "metadata": {
    "slideshow": {
     "slide_type": "subslide"
    }
   },
   "outputs": [],
   "source": [
    "lists = response.json()\n",
    "lists"
   ]
  },
  {
   "cell_type": "markdown",
   "metadata": {
    "slideshow": {
     "slide_type": "slide"
    }
   },
   "source": [
    "## Opvragen van de cards van een list"
   ]
  },
  {
   "cell_type": "code",
   "execution_count": null,
   "metadata": {},
   "outputs": [],
   "source": [
    "list_id = lists[0][\"id\"]\n",
    "\n",
    "parameters = {\n",
    "   'key': api_key,\n",
    "   'token': token,\n",
    "   'fields': 'name,id' \n",
    "}\n",
    "\n",
    "response = requests.get(\n",
    "   \"https://api.trello.com/1/lists/{id}/cards\".format(\n",
    "       id = list_id\n",
    "   ),\n",
    "   headers={\"Accept\": \"application/json\"},\n",
    "   params=parameters\n",
    ")\n",
    "response.status_code"
   ]
  },
  {
   "cell_type": "code",
   "execution_count": null,
   "metadata": {
    "slideshow": {
     "slide_type": "subslide"
    }
   },
   "outputs": [],
   "source": [
    "cards = response.json()\n",
    "cards"
   ]
  },
  {
   "cell_type": "markdown",
   "metadata": {
    "slideshow": {
     "slide_type": "slide"
    }
   },
   "source": [
    "## Opvragen van een card"
   ]
  },
  {
   "cell_type": "code",
   "execution_count": null,
   "metadata": {},
   "outputs": [],
   "source": [
    "card_id = cards[0][\"id\"]\n",
    "\n",
    "parameters = {\n",
    "   'key': api_key,\n",
    "   'token': token,\n",
    "   'fields': \"name,desc,id,url\"\n",
    "}\n",
    "\n",
    "response = requests.get(\n",
    "   \"https://api.trello.com/1/cards/{id}\".format(\n",
    "       id = card_id\n",
    "   ),\n",
    "   headers={\"Accept\": \"application/json\"},\n",
    "   params=parameters\n",
    ")\n",
    "response.status_code"
   ]
  },
  {
   "cell_type": "code",
   "execution_count": null,
   "metadata": {
    "slideshow": {
     "slide_type": "subslide"
    }
   },
   "outputs": [],
   "source": [
    "my_card = response.json()\n",
    "my_card"
   ]
  },
  {
   "cell_type": "markdown",
   "metadata": {
    "slideshow": {
     "slide_type": "slide"
    }
   },
   "source": [
    "## Een nieuw board\n",
    "\n",
    "Maak een nieuw board aan, met de default-lijsten: \n",
    "\n",
    "* To Do, Doing, Done"
   ]
  },
  {
   "cell_type": "code",
   "execution_count": null,
   "metadata": {},
   "outputs": [],
   "source": [
    "parameters = {\n",
    "   'key': api_key,\n",
    "   'token': token,\n",
    "   'name': \"API test board\"\n",
    "}\n",
    "\n",
    "response = requests.post(\n",
    "   \"https://api.trello.com/1/boards\",\n",
    "   headers={\"Accept\": \"application/json\"},\n",
    "   params=parameters\n",
    ")\n",
    "response.status_code"
   ]
  },
  {
   "cell_type": "code",
   "execution_count": null,
   "metadata": {
    "slideshow": {
     "slide_type": "subslide"
    }
   },
   "outputs": [],
   "source": [
    "my_board = response.json()\n",
    "my_board"
   ]
  },
  {
   "cell_type": "markdown",
   "metadata": {
    "slideshow": {
     "slide_type": "slide"
    }
   },
   "source": [
    "## Bepaal lijsten\n"
   ]
  },
  {
   "cell_type": "code",
   "execution_count": null,
   "metadata": {},
   "outputs": [],
   "source": [
    "parameters = {\n",
    "   'key': api_key,\n",
    "   'token': token,\n",
    "   'fields': 'name,id' \n",
    "}\n",
    "\n",
    "response = requests.get(\n",
    "   \"https://api.trello.com/1/boards/{id}/lists\".format(\n",
    "       id = my_board[\"id\"]\n",
    "   ),\n",
    "   headers={\"Accept\": \"application/json\"},\n",
    "   params=parameters\n",
    ")\n",
    "response.status_code"
   ]
  },
  {
   "cell_type": "code",
   "execution_count": null,
   "metadata": {
    "slideshow": {
     "slide_type": "subslide"
    }
   },
   "outputs": [],
   "source": [
    "my_lists = response.json()\n",
    "my_lists"
   ]
  },
  {
   "cell_type": "markdown",
   "metadata": {
    "slideshow": {
     "slide_type": "slide"
    }
   },
   "source": [
    "## Lists in Python dictionary"
   ]
  },
  {
   "cell_type": "code",
   "execution_count": null,
   "metadata": {},
   "outputs": [],
   "source": [
    "list_ids = {}\n",
    "for elem in my_lists:\n",
    "    print(elem)\n",
    "    name = elem[\"name\"]\n",
    "    list_ids[name] = elem[\"id\"]"
   ]
  },
  {
   "cell_type": "code",
   "execution_count": null,
   "metadata": {},
   "outputs": [],
   "source": [
    "list_ids[\"To Do\"]"
   ]
  },
  {
   "cell_type": "markdown",
   "metadata": {
    "slideshow": {
     "slide_type": "slide"
    }
   },
   "source": [
    "## Nieuwe card in To Do list"
   ]
  },
  {
   "cell_type": "code",
   "execution_count": null,
   "metadata": {},
   "outputs": [],
   "source": [
    "parameters = {\n",
    "   'key': api_key,\n",
    "   'token': token,\n",
    "   'name': \"A new card\",\n",
    "   'desc': \"A card generated via the API\",\n",
    "   'pos': 'top',\n",
    "   'idList': list_ids[\"To Do\"]\n",
    "}\n",
    "\n",
    "response = requests.post(\n",
    "   \"https://api.trello.com/1/cards\",\n",
    "   headers={\"Accept\": \"application/json\"},\n",
    "   params=parameters\n",
    ")\n",
    "response.status_code"
   ]
  },
  {
   "cell_type": "code",
   "execution_count": null,
   "metadata": {
    "slideshow": {
     "slide_type": "subslide"
    }
   },
   "outputs": [],
   "source": [
    "new_card = response.json()\n",
    "new_card"
   ]
  },
  {
   "cell_type": "markdown",
   "metadata": {
    "slideshow": {
     "slide_type": "slide"
    }
   },
   "source": [
    "## Move card to Doing list"
   ]
  },
  {
   "cell_type": "code",
   "execution_count": null,
   "metadata": {},
   "outputs": [],
   "source": [
    "parameters = {\n",
    "   'key': api_key,\n",
    "   'token': token,\n",
    "   'idList': list_ids[\"Doing\"]\n",
    "}\n",
    "\n",
    "response = requests.put(\n",
    "   \"https://api.trello.com/1/cards/{id}\".format(\n",
    "       id = new_card[\"id\"]\n",
    "   ),\n",
    "   headers={\"Accept\": \"application/json\"},\n",
    "   params=parameters\n",
    ")\n",
    "response.status_code"
   ]
  },
  {
   "cell_type": "code",
   "execution_count": null,
   "metadata": {
    "slideshow": {
     "slide_type": "subslide"
    }
   },
   "outputs": [],
   "source": [
    "new_card = response.json()\n",
    "print(new_card[\"url\"])"
   ]
  },
  {
   "cell_type": "markdown",
   "metadata": {
    "slideshow": {
     "slide_type": "slide"
    }
   },
   "source": [
    "## Delete card\n"
   ]
  },
  {
   "cell_type": "code",
   "execution_count": null,
   "metadata": {},
   "outputs": [],
   "source": [
    "parameters = {\n",
    "   'key': api_key,\n",
    "   'token': token\n",
    "}\n",
    "\n",
    "response = requests.delete(\n",
    "   \"https://api.trello.com/1/cards/{id}\".format(\n",
    "       id = new_card[\"id\"]\n",
    "   ),\n",
    "   headers={\"Accept\": \"application/json\"},\n",
    "   params=parameters\n",
    ")\n",
    "response.status_code"
   ]
  },
  {
   "cell_type": "markdown",
   "metadata": {
    "slideshow": {
     "slide_type": "slide"
    }
   },
   "source": [
    "## Delete board"
   ]
  },
  {
   "cell_type": "code",
   "execution_count": null,
   "metadata": {},
   "outputs": [],
   "source": [
    "parameters = {\n",
    "   'key': api_key,\n",
    "   'token': token\n",
    "}\n",
    "\n",
    "response = requests.delete(\n",
    "   \"https://api.trello.com/1/boards/{id}\".format(\n",
    "       id = my_board[\"id\"]\n",
    "   ),\n",
    "   headers={\"Accept\": \"application/json\"},\n",
    "   params=parameters\n",
    ")\n",
    "response.status_code"
   ]
  },
  {
   "cell_type": "markdown",
   "metadata": {
    "slideshow": {
     "slide_type": "slide"
    }
   },
   "source": [
    "------\n",
    "\n",
    "Nu zelf aan de slag..."
   ]
  }
 ],
 "metadata": {
  "celltoolbar": "Diavoorstelling",
  "kernelspec": {
   "display_name": "Python 3",
   "language": "python",
   "name": "python3"
  },
  "language_info": {
   "codemirror_mode": {
    "name": "ipython",
    "version": 3
   },
   "file_extension": ".py",
   "mimetype": "text/x-python",
   "name": "python",
   "nbconvert_exporter": "python",
   "pygments_lexer": "ipython3",
   "version": "3.7.9"
  },
  "toc": {
   "base_numbering": 1,
   "nav_menu": {},
   "number_sections": false,
   "sideBar": true,
   "skip_h1_title": false,
   "title_cell": "Table of Contents",
   "title_sidebar": "Contents",
   "toc_cell": false,
   "toc_position": {
    "height": "calc(100% - 180px)",
    "left": "10px",
    "top": "150px",
    "width": "165px"
   },
   "toc_section_display": true,
   "toc_window_display": false
  }
 },
 "nbformat": 4,
 "nbformat_minor": 4
}