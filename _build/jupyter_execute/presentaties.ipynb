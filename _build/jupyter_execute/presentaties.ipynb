{
 "cells": [
  {
   "cell_type": "markdown",
   "metadata": {},
   "source": [
    "# Presentaties\n",
    "\n",
    "De presentaties bij dit materiaal vind je in de map \"presentaties\".\n",
    "Je kunt deze uitvoeren via Binder:\n",
    "\n",
    "* klik op de Binder-launch knop, onder de \"raket\" hierboven.\n",
    "\n",
    "Je krijgt dan deze pagina als interactief Jupyter Notebook in een nieuw venster."
   ]
  },
  {
   "cell_type": "markdown",
   "metadata": {},
   "source": [
    "In dit Jupyter Notebook vind je de interactieve presentaties via onderstaande links:\n",
    "\n",
    "* [Inleiding web API's](presentaties/http-in-python.ipynb)\n",
    "* [Voorbeeld: Trello](presentaties/http-rest.ipynb)\n",
    "\n",
    "Je kunt deze in presentatie-modus starten met het \"histogram-symbool\" bovenin.\n",
    "\n",
    "Deze presentaties maken gebruik van Rise, voor reveal.js in Jupyter notebook: zie [https://rise.readthedocs.io](https://rise.readthedocs.io)."
   ]
  },
  {
   "cell_type": "markdown",
   "metadata": {},
   "source": [
    "## Naar de andere notebooks\n",
    "\n",
    "Je kunt vanuit een Jupyter Notebook in de browser, via Binder, naar de andere notebooks in hetzelfde repository navigeren door te klikken op het Jupyter logo linksboven. Je krijgt dan de vraag of je de pagina wilt verlaten; antwoord \"ja\".\n",
    "In het venster krijg je dan de verschillende bestanden in het repository te zien. Je kunt een notebook actief maken door dit aan te klikken."
   ]
  },
  {
   "cell_type": "code",
   "execution_count": null,
   "metadata": {},
   "outputs": [],
   "source": []
  },
  {
   "cell_type": "markdown",
   "metadata": {},
   "source": [
    "\n",
    "```{toctree}\n",
    ":hidden:\n",
    ":titlesonly:\n",
    "\n",
    "\n",
    "presentaties/http-in-python.ipynb\n",
    "presentaties/http-rest.ipynb\n",
    "```\n"
   ]
  }
 ],
 "metadata": {
  "kernelspec": {
   "display_name": "Python 3",
   "language": "python",
   "name": "python3"
  },
  "language_info": {
   "codemirror_mode": {
    "name": "ipython",
    "version": 3
   },
   "file_extension": ".py",
   "mimetype": "text/x-python",
   "name": "python",
   "nbconvert_exporter": "python",
   "pygments_lexer": "ipython3",
   "version": "3.7.9"
  }
 },
 "nbformat": 4,
 "nbformat_minor": 4
}