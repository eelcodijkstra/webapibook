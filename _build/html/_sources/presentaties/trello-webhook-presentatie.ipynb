{
 "cells": [
  {
   "cell_type": "markdown",
   "metadata": {
    "slideshow": {
     "slide_type": "slide"
    }
   },
   "source": [
    "# Trello-webhooks via NodeRed"
   ]
  },
  {
   "cell_type": "markdown",
   "metadata": {
    "slideshow": {
     "slide_type": "skip"
    }
   },
   "source": [
    "Het HTTP-protocol is een client-server protocol, waarbij het initiatief voor de communicatie altijd bij de client ligt.\n",
    "Dit betekent dat de server niet op een willekeurig moment een bericht naar de client kan sturen.\n",
    "\n",
    "Voor samenwerkende toepassingen heb je soms twee-richtingsverkeer nodig, waarbij elke partij het initiatief kan nemen tot de communicatie. Denk in het geval van Trello bijvoorbeeld aan een verandering in een bord via een gebruiker: daar wil je een toepassing die aan Trello gekoppeld is direct van op de hoogte kunnen stellen.\n",
    "\n",
    "Een veel-gebruikte aanpak hiervoor vormen *webhooks*: je kunt aan Trello een URL (*webhook*) opgeven waar Trello een HTTP-request naar stuurt bij een bepaalde gebeurtenis, bijvoorbeeld een verandering in een bord.\n",
    "\n",
    "Een probleem is dat de toepassing dan zelf een API-URL moet hebben. Dit betekent dat je een server nodig hebt in het publieke internet.\n",
    "\n",
    "Voor demonstratie/experimenteerdoeleinden zijn er meerdere manieren om een (tijdelijke) server te maken. Dit kan met NodeRed, zoals we hier zullen doen; of bijvoorbeeld met glitch (glitch.com).\n",
    "\n",
    "In het onderstaande voorbeeld maken we met NodeRed een server die Trello koppelt aan Matrix: bij een actie op een gegeven Trello-bord krijg je een bericht in Matrix.\n",
    "\n",
    "We zullen dit voorbeeld in een aantal stappen uitwerken:"
   ]
  },
  {
   "cell_type": "markdown",
   "metadata": {
    "slideshow": {
     "slide_type": "slide"
    }
   },
   "source": [
    "## Webhooks: waarom?\n",
    "\n",
    "* HTTP client-server: initiatief ligt altijd bij client\n",
    "* soms: initiatief bij server nodig\n",
    "    * bijv: veranderingen in server-toestand\n",
    "* bericht van \"server\" naar \"client\": omwisselen van rol\n",
    "* client als webserver (in publieke internet)\n",
    "* URL van client-webserver aanmelden bij server-API"
   ]
  },
  {
   "cell_type": "markdown",
   "metadata": {
    "slideshow": {
     "slide_type": "slide"
    }
   },
   "source": [
    "## Voorbeeld: Trello webhook en NodeRed webserver\n",
    "\n",
    "\n",
    "* NodeRed webserver (alternatief: glitch.com, enz.)\n",
    "* Trello stuurt webhook-request naar NodeRed webserver als bord verandert\n",
    "* NodeRed-webserver stuurt bericht naar Matrix"
   ]
  },
  {
   "cell_type": "markdown",
   "metadata": {
    "slideshow": {
     "slide_type": "slide"
    }
   },
   "source": [
    "## Stappen\n",
    "\n",
    "1. NodeRed: het versturen van een bericht vanuit NodeRed naar Matrix.\n",
    "2. NodeRed: webserver met GET en POST, die we vanuit Jupyter testen.\n",
    "3. Installeren van de webhook bij Trello"
   ]
  },
  {
   "cell_type": "markdown",
   "metadata": {
    "slideshow": {
     "slide_type": "slide"
    }
   },
   "source": [
    "## NodeRed\n",
    "\n",
    "* grafische flows voor koppelen van diensten en protocollen\n",
    "* van Raspberry Pi pinnen tot AI diensten\n",
    "* bewerkingen in nodes mogelijk via JavaScript, templates enz.\n",
    "\n",
    "![nodered-webserver-testflow](../images/nodered-webserver-testflow.png)"
   ]
  },
  {
   "cell_type": "markdown",
   "metadata": {
    "slideshow": {
     "slide_type": "skip"
    }
   },
   "source": [
    "## NodeRed\n",
    "\n",
    "In NodeRed (https://nodered.org) kun je op een grafische manier verschillende diensten en API's koppelen.\n",
    "Je kunt een webserver maken, voor het afhandelen van HTTP-requests.\n",
    "En je kunt HTTP-requests versturen naar andere servers.\n",
    "Daarnaast kun je allerlei andere internet-protocollen gebruiken, zoals UDP, TCP en MQTT.\n",
    "\n",
    "Op een Raspberry Pi kun je de hardware-pinnen besturen vanuit NodeRed.\n",
    "\n",
    "NodeRed is open source software. Je kunt dit op je eigen laptop installeneren, of op een server in het internet. NodeRed is onderdeel van de standaard-distributie voor de Raspberry Pi.\n",
    "\n",
    "Voor de volgende opdrachten heb je een installatie van NodeRed nodig die vanuit het publieke internet bereikbaar is. (Waarschijnlijk voldoet NodeRed op je eigen laptop niet aan die voorwaarde.)\n",
    "De beschrijving hieronder is gebaseerd op de online NodeRed-dienst FRED (https://fred.sensetecnic.com); je kunt daar een gratis account aanmaken, dat geeft voor deze opdrachten voldoende mogelijkheden.\n",
    "\n",
    "Als eerste stap maak je nu van een test-flow voor Matrix."
   ]
  },
  {
   "cell_type": "markdown",
   "metadata": {
    "slideshow": {
     "slide_type": "skip"
    }
   },
   "source": [
    "## NodeRed naar Matrix\n",
    "\n",
    "Vanuit NodeRed kun je HTTP-requests versturen naar Matrix. Voor het versturen van tekst-berichten moet je een *token* hebben. Dit token krijg je door in te loggen bij Matrix, zie het hoofdstuk over Matrix.\n",
    "\n",
    "Daarnaast heb je de identificatie van een *room* nodig waarvoor je als gebruiker aangemeld bent.\n",
    "\n",
    "Voor de volgende stappen heb je dus nodig:\n",
    "\n",
    "* je Matrix username\n",
    "* je Matrix password\n",
    "* een Matrix roomid"
   ]
  },
  {
   "cell_type": "markdown",
   "metadata": {
    "slideshow": {
     "slide_type": "slide"
    }
   },
   "source": [
    "## NodeRed naar Matrix\n",
    "\n",
    "Nodig:\n",
    "\n",
    "* je Matrix username\n",
    "* je Matrix password\n",
    "* een Matrix roomid"
   ]
  },
  {
   "cell_type": "markdown",
   "metadata": {
    "slideshow": {
     "slide_type": "skip"
    }
   },
   "source": [
    "### Credentials node\n",
    "\n",
    "Deze gegevens vul je in in een \"credentials\" node. Bij het kopiëren van deze node worden deze gegevens niet meegekopieerd, zodat deze niet zomaar uitlekken. Deze node moet je eerst installeren.\n",
    "\n",
    "In FRED:\n",
    "\n",
    "* selecteer in de FRED sidebar (donkere zijbalk links): Add or Remove Nodes\n",
    "* zoek (bij \"search nodes\") naar \"Credentials\"\n",
    "* vink de Credentials-node aan\n",
    "* herstart je FRED NodeRed virtuele machine"
   ]
  },
  {
   "cell_type": "markdown",
   "metadata": {
    "slideshow": {
     "slide_type": "slide"
    }
   },
   "source": [
    "## Toevoegen Credentials Node\n",
    "\n",
    "In FRED:\n",
    "\n",
    "* selecteer in de FRED sidebar (donkere zijbalk links): Add or Remove Nodes\n",
    "* zoek (bij \"search nodes\") naar \"Credentials\"\n",
    "* vink de Credentials-node aan\n",
    "* herstart je FRED NodeRed virtuele machine"
   ]
  },
  {
   "cell_type": "markdown",
   "metadata": {
    "slideshow": {
     "slide_type": "slide"
    }
   },
   "source": [
    "### Flow\n",
    "\n",
    "![nodered-matrix-testflow](../images/nodered-matrix-testflow.png)\n",
    "\n",
    "Hierboven zie je de Matrix test-flow."
   ]
  },
  {
   "cell_type": "markdown",
   "metadata": {
    "slideshow": {
     "slide_type": "slide"
    }
   },
   "source": [
    "### Importeren van de test-flow\n",
    "\n",
    "Importeer de testflow in NodeRed:\n",
    "\n",
    "* kopieer de onderstaande JSON-code (\"Copy\")\n",
    "* ga naar het NodeRed-venster\n",
    "* selecteer in het hamburger-menu rechts boven: Import\n",
    "* \"Paste\" de JSON-code in het venster\n",
    "* en klik op de \"Import\" button\n",
    "\n",
    "Als het goed is heb je nu een tab gekregen met als naam \"Matrix test-flow\", met deze flow."
   ]
  },
  {
   "cell_type": "markdown",
   "metadata": {},
   "source": [
    "```\n",
    "[{\"id\":\"2d7b69c0.da1286\",\"type\":\"tab\",\"label\":\"Matrix test-flow\",\"disabled\":false,\"info\":\"\"},{\"id\":\"9ae15617.f83318\",\"type\":\"inject\",\"z\":\"2d7b69c0.da1286\",\"name\":\"\",\"topic\":\"\",\"payload\":\"\",\"payloadType\":\"date\",\"repeat\":\"\",\"crontab\":\"\",\"once\":false,\"onceDelay\":0.1,\"x\":116,\"y\":120,\"wires\":[[\"20d4553d.d3444a\"]]},{\"id\":\"a4809466.7d1468\",\"type\":\"http request\",\"z\":\"2d7b69c0.da1286\",\"name\":\"\",\"method\":\"use\",\"ret\":\"txt\",\"paytoqs\":false,\"url\":\"\",\"tls\":\"\",\"persist\":false,\"proxy\":\"\",\"authType\":\"\",\"x\":406,\"y\":200,\"wires\":[[\"88ea5a68.11419\"]]},{\"id\":\"15b879aa.461a3e\",\"type\":\"debug\",\"z\":\"2d7b69c0.da1286\",\"name\":\"\",\"active\":true,\"tosidebar\":true,\"console\":false,\"tostatus\":false,\"complete\":\"false\",\"x\":466,\"y\":260,\"wires\":[]},{\"id\":\"237fafd1.56a5c8\",\"type\":\"function\",\"z\":\"2d7b69c0.da1286\",\"name\":\"Prepare Matrix login\",\"func\":\"request_data = {\\n  \\\"identifier\\\": {\\n    \\\"type\\\": \\\"m.id.user\\\",\\n    \\\"user\\\": msg.matrix_username\\n  },\\n  \\\"initial_device_display_name\\\": msg.matrix_username,\\n  \\\"password\\\": msg.matrix_password,\\n  \\\"type\\\": \\\"m.login.password\\\"\\n}\\nreq = {};\\nreq.url = 'https://matrix.org/_matrix/client/r0/login';\\nreq.method = \\\"POST\\\";\\nreq.payload = request_data;\\nreturn req;\\n\",\"outputs\":1,\"noerr\":0,\"x\":156,\"y\":200,\"wires\":[[\"a4809466.7d1468\"]]},{\"id\":\"5507de0a.5634d8\",\"type\":\"inject\",\"z\":\"2d7b69c0.da1286\",\"name\":\"\",\"topic\":\"\",\"payload\":\"\",\"payloadType\":\"date\",\"repeat\":\"\",\"crontab\":\"\",\"once\":false,\"onceDelay\":0.1,\"x\":116,\"y\":380,\"wires\":[[\"a62dbb0f.760d68\"]]},{\"id\":\"d89e8191.235fa8\",\"type\":\"http request\",\"z\":\"2d7b69c0.da1286\",\"name\":\"\",\"method\":\"use\",\"ret\":\"txt\",\"paytoqs\":false,\"url\":\"\",\"tls\":\"\",\"persist\":false,\"proxy\":\"\",\"authType\":\"\",\"x\":406,\"y\":440,\"wires\":[[\"81074d70.ba47e\"]]},{\"id\":\"81074d70.ba47e\",\"type\":\"debug\",\"z\":\"2d7b69c0.da1286\",\"name\":\"\",\"active\":true,\"tosidebar\":true,\"console\":false,\"tostatus\":false,\"complete\":\"false\",\"x\":406,\"y\":500,\"wires\":[]},{\"id\":\"df0f9101.e7d3d8\",\"type\":\"function\",\"z\":\"2d7b69c0.da1286\",\"name\":\"Prepare Matrix message\",\"func\":\"token = flow.get(\\\"matrix_token\\\")\\nroomid = flow.get(\\\"matrix_roomid\\\")\\ntxnr = flow.get(\\\"txnr\\\")||0\\ntxnr = txnr + 1\\nflow.set(\\\"txnr\\\", txnr)\\nreq = {}\\nreq.url = `https://matrix.org/_matrix/client/r0/rooms/${roomid}/send/m.room.message/${txnr}?access_token=${token}`\\nreq.method = \\\"PUT\\\"\\nreq.payload = msg.payload\\nmsg = req\\nreturn msg;\\n\",\"outputs\":1,\"noerr\":0,\"x\":166,\"y\":440,\"wires\":[[\"d89e8191.235fa8\"]]},{\"id\":\"a62dbb0f.760d68\",\"type\":\"template\",\"z\":\"2d7b69c0.da1286\",\"name\":\"\",\"field\":\"payload\",\"fieldType\":\"msg\",\"format\":\"json\",\"syntax\":\"mustache\",\"template\":\"{\\n    \\\"body\\\": \\\"Hello from FRED/NodeRed\\\",\\n    \\\"msgtype\\\": \\\"m.text\\\"\\n}\",\"output\":\"json\",\"x\":276,\"y\":380,\"wires\":[[\"df0f9101.e7d3d8\"]]},{\"id\":\"c566724a.71251\",\"type\":\"function\",\"z\":\"2d7b69c0.da1286\",\"name\":\"save token\",\"func\":\"if (msg.statusCode == 200) {\\n    token = msg.payload.access_token;\\n    flow.set(\\\"matrix_token\\\", token);\\n} else {\\n    flow.set(\\\"matrix_token\\\", \\\"no-token\\\");\\n}\\nreturn msg;\",\"outputs\":1,\"noerr\":0,\"x\":266,\"y\":260,\"wires\":[[\"15b879aa.461a3e\"]]},{\"id\":\"20d4553d.d3444a\",\"type\":\"credentials\",\"z\":\"2d7b69c0.da1286\",\"name\":\"Matrix-credentials\",\"props\":[{\"value\":\"matrix_username\",\"type\":\"msg\"},{\"value\":\"matrix_password\",\"type\":\"msg\"},{\"value\":\"matrix_roomid\",\"type\":\"flow\"}],\"x\":306,\"y\":120,\"wires\":[[\"237fafd1.56a5c8\"]]},{\"id\":\"88ea5a68.11419\",\"type\":\"json\",\"z\":\"2d7b69c0.da1286\",\"name\":\"\",\"property\":\"payload\",\"action\":\"\",\"pretty\":false,\"x\":106,\"y\":260,\"wires\":[[\"c566724a.71251\"]]}]\n",
    "```"
   ]
  },
  {
   "cell_type": "markdown",
   "metadata": {
    "slideshow": {
     "slide_type": "slide"
    }
   },
   "source": [
    "### Invullen van de credentials\n",
    "\n",
    "De volgende stap is het invullen van de credentials:\n",
    "\n",
    "1. double-click op de node Credentials, om deze te configureren\n",
    "2. vul je Matrix-*username* in als \"value\" bij `flow.matrix_username`\n",
    "3. vul je Matrix-*password* in als \"value\" bij `flow.matrix_password`\n",
    "3. vul de `roomid` in als \"value\" bij `flow.matrix_roomid`\n",
    "4. klik op \"Done\""
   ]
  },
  {
   "cell_type": "markdown",
   "metadata": {
    "slideshow": {
     "slide_type": "slide"
    }
   },
   "source": [
    "### Uitvoeren van de test-flow\n",
    "\n",
    "1. klik op \"Deploy\" (rode knop rechtsboven)\n",
    "2. genereer het token: klik op de knop (links) van de bovenste Insert-node.\n",
    "3. stuur een message: klik op de knop van de onderste Insert-node\n",
    "\n",
    "Zie: Debug-window \n",
    "\n",
    "Succes: bericht naar Matrix."
   ]
  },
  {
   "cell_type": "markdown",
   "metadata": {
    "slideshow": {
     "slide_type": "skip"
    }
   },
   "source": [
    "## Stap 2: Maken van een NodeRed-webserver\n",
    "\n",
    "De volgende stap is het maken van een webserver in NodeRed waarmee Trello berichten naar Matrix kunt sturen.\n",
    "\n",
    "Hiervoor gebruik de volgende flow:\n",
    "\n",
    "![nodered-webserver-testflow](../images/nodered-webserver-testflow.png)"
   ]
  },
  {
   "cell_type": "markdown",
   "metadata": {
    "slideshow": {
     "slide_type": "slide"
    }
   },
   "source": [
    "## Stap 2: Maken van een NodeRed-webserver\n",
    "\n",
    "Webserver in NodeRed om Trello berichten naar Matrix te sturen\n",
    "\n",
    "Flow:\n",
    "\n",
    "![nodered-webserver-testflow](../images/nodered-webserver-testflow.png)"
   ]
  },
  {
   "cell_type": "markdown",
   "metadata": {
    "slideshow": {
     "slide_type": "slide"
    }
   },
   "source": [
    "## Importeer deze flow\n",
    "    \n",
    "* Kopieer (Copy) de JSON-tekst hieronder\n",
    "* Importeer in NodeRed: \n",
    "    * Hamburgermenu->Import; Paste; \n",
    "    * positioneer onder de bestaande flow\n",
    "* Deploy (rode knop rechtsboven)"
   ]
  },
  {
   "cell_type": "markdown",
   "metadata": {
    "slideshow": {
     "slide_type": "subslide"
    }
   },
   "source": [
    "```\n",
    "[{\"id\":\"8751025a.af47a8\",\"type\":\"http in\",\"z\":\"b715399a.8f6e38\",\"name\":\"\",\"url\":\"/trello\",\"method\":\"get\",\"upload\":false,\"swaggerDoc\":\"\",\"x\":90,\"y\":420,\"wires\":[[\"91fb06ba.e73458\"]]},{\"id\":\"2caf303.9b1ee5\",\"type\":\"http response\",\"z\":\"b715399a.8f6e38\",\"name\":\"\",\"statusCode\":\"\",\"headers\":{},\"x\":410,\"y\":420,\"wires\":[]},{\"id\":\"af0c367e.43676\",\"type\":\"http in\",\"z\":\"b715399a.8f6e38\",\"name\":\"\",\"url\":\"/trello\",\"method\":\"post\",\"upload\":false,\"swaggerDoc\":\"\",\"x\":100,\"y\":320,\"wires\":[[\"cdb30e1d.3cfd58\",\"91fb06ba.e73458\",\"58ae857.817917c\"]]},{\"id\":\"cdb30e1d.3cfd58\",\"type\":\"template\",\"z\":\"b715399a.8f6e38\",\"name\":\"\",\"field\":\"payload\",\"fieldType\":\"msg\",\"format\":\"handlebars\",\"syntax\":\"mustache\",\"template\":\"{\\n    \\\"body\\\": \\\"Actie op bord {{payload.model.name}} - via FRED!\\\",\\n    \\\"msgtype\\\": \\\"m.text\\\"\\n}\\n\",\"output\":\"json\",\"x\":420,\"y\":320,\"wires\":[[\"60087ea7.1600d\"]]},{\"id\":\"91fb06ba.e73458\",\"type\":\"template\",\"z\":\"b715399a.8f6e38\",\"name\":\"\",\"field\":\"payload\",\"fieldType\":\"msg\",\"format\":\"handlebars\",\"syntax\":\"mustache\",\"template\":\"OK.\",\"output\":\"str\",\"x\":260,\"y\":420,\"wires\":[[\"2caf303.9b1ee5\",\"8a3a8d7d.f18c4\"]]},{\"id\":\"8a3a8d7d.f18c4\",\"type\":\"debug\",\"z\":\"b715399a.8f6e38\",\"name\":\"\",\"active\":true,\"tosidebar\":true,\"console\":false,\"tostatus\":false,\"complete\":\"false\",\"x\":430,\"y\":460,\"wires\":[]},{\"id\":\"58ae857.817917c\",\"type\":\"debug\",\"z\":\"b715399a.8f6e38\",\"name\":\"\",\"active\":true,\"tosidebar\":true,\"console\":false,\"tostatus\":false,\"complete\":\"false\",\"x\":430,\"y\":360,\"wires\":[]}]\n",
    "```"
   ]
  },
  {
   "cell_type": "markdown",
   "metadata": {
    "slideshow": {
     "slide_type": "slide"
    }
   },
   "source": [
    "## Webserver testen vanuit Notebook\n",
    "\n",
    "Nodig:\n",
    "\n",
    "* je FRED username\n",
    "* je FRED password"
   ]
  },
  {
   "cell_type": "code",
   "execution_count": null,
   "metadata": {},
   "outputs": [],
   "source": [
    "import requests\n",
    "import json\n",
    "import urllib"
   ]
  },
  {
   "cell_type": "code",
   "execution_count": null,
   "metadata": {},
   "outputs": [],
   "source": [
    "fred_username = input(\"FRED username? \")\n",
    "fred_password = input(\"FRED password? \")"
   ]
  },
  {
   "cell_type": "markdown",
   "metadata": {
    "slideshow": {
     "slide_type": "skip"
    }
   },
   "source": [
    "### Testen van de webserver\n",
    "\n",
    "Met het volgende script kun je deze webserver testen. Je hebt in de URL je FRED username/password nodig. \n",
    "Je hebt hier een username/password nodig omdat de API van NodeRed in de gratis versie niet publiekelijk toegankelijk is.\n",
    "\n",
    "Omdat in een password allerlei bijzondere tekens kunnen voorkomen, zoals \"@\" of \"&\", gebruiken we daarvoor de url-encoding. Daarbij worden deze bijzondere tekens omgezet in \"%40\" of \"%26\", enz. (Je ziet dat mogelijk weleens in een URL.)\n",
    "\n",
    "Het GET-request wordt straks door Trello gebruikt om te controleren of de URL werkt."
   ]
  },
  {
   "cell_type": "markdown",
   "metadata": {
    "slideshow": {
     "slide_type": "slide"
    }
   },
   "source": [
    "## Test: get-request\n",
    "\n",
    "Let op: gebruik van `urllib.parse.quote(passwd)`\n",
    "\n",
    "Controleer resultaat in NodeRed debug"
   ]
  },
  {
   "cell_type": "code",
   "execution_count": null,
   "metadata": {},
   "outputs": [],
   "source": [
    "r = requests.get(\"https://{user}:{passwd}@{user}.fred.sensetecnic.com/api/trello\".format(\n",
    "        user = fred_username,\n",
    "        passwd = urllib.parse.quote(fred_password)\n",
    "    ))\n",
    "r.status_code"
   ]
  },
  {
   "cell_type": "markdown",
   "metadata": {
    "slideshow": {
     "slide_type": "slide"
    }
   },
   "source": [
    "### Test: POST-URL\n",
    "\n",
    "Controleer resultaat in NodeRed debug"
   ]
  },
  {
   "cell_type": "code",
   "execution_count": null,
   "metadata": {},
   "outputs": [],
   "source": [
    "model_data = {\n",
    "    \"model\": {\"name\": \"Jupyter Notebook test\"}\n",
    "}\n",
    "\n",
    "res = requests.post(\"https://{user}:{passwd}@{user}.fred.sensetecnic.com/api/trello\".format(\n",
    "            user = fred_username,\n",
    "            passwd = urllib.parse.quote(fred_password)\n",
    "          ),\n",
    "          json = model_data\n",
    "      )\n",
    "res.status_code"
   ]
  },
  {
   "cell_type": "markdown",
   "metadata": {
    "slideshow": {
     "slide_type": "slide"
    }
   },
   "source": [
    "### Webserver-flow koppelen aan Matrix-flow\n",
    "\n",
    "Maak de volgende flow (en Deploy!)\n",
    "\n",
    "![nodered-webserver-matrixflow](../images/nodered-webserver-matrix-flow.png)"
   ]
  },
  {
   "cell_type": "markdown",
   "metadata": {
    "slideshow": {
     "slide_type": "slide"
    }
   },
   "source": [
    "### Test de gecombineerd webserver-Matrix flow\n",
    "\n",
    "* voer nu het vorige script (Test: POST-URL) nogmaals uit.\n",
    "\n",
    "Als het goed is krijg je nu een bericht in Matrix"
   ]
  },
  {
   "cell_type": "markdown",
   "metadata": {
    "slideshow": {
     "slide_type": "slide"
    }
   },
   "source": [
    "## Stap 3: Trello webhook"
   ]
  },
  {
   "cell_type": "markdown",
   "metadata": {
    "slideshow": {
     "slide_type": "slide"
    }
   },
   "source": [
    "### Aanmaken van een Trello-token\n",
    "\n",
    "* vul je Trello API-key in\n",
    "    * (zie [https://trello.com/app-key](https://trello.com/app-key))\n",
    "* maak de URL aan voor het aanvragen van een token"
   ]
  },
  {
   "cell_type": "code",
   "execution_count": null,
   "metadata": {},
   "outputs": [],
   "source": [
    "api_key = input(\"API-key? \")\n",
    "print(\"ingevulde api_key: \" + api_key)"
   ]
  },
  {
   "cell_type": "markdown",
   "metadata": {
    "slideshow": {
     "slide_type": "skip"
    }
   },
   "source": [
    "* maak hiermee de URL aan voor het aanvragen van een token\n",
    "* klik op die resultaat-URL om het token de kopiëren (Copy)"
   ]
  },
  {
   "cell_type": "code",
   "execution_count": null,
   "metadata": {
    "slideshow": {
     "slide_type": "subslide"
    }
   },
   "outputs": [],
   "source": [
    "url = \"https://trello.com/1/authorize?expiration=1day&name=MyWebhookToken&scope=read,write&response_type=token&key=\" + api_key\n",
    "print(url)"
   ]
  },
  {
   "cell_type": "markdown",
   "metadata": {
    "slideshow": {
     "slide_type": "subslide"
    }
   },
   "source": [
    "* vul het token in (Paste)"
   ]
  },
  {
   "cell_type": "code",
   "execution_count": null,
   "metadata": {},
   "outputs": [],
   "source": [
    "trello_token = input(\"Trello-token? \")\n",
    "print(\"ingevuld token: \", trello_token)"
   ]
  },
  {
   "cell_type": "markdown",
   "metadata": {
    "slideshow": {
     "slide_type": "slide"
    }
   },
   "source": [
    "### Bord-id\n",
    "\n",
    "Vul ID in van Trello-bord voor de webhook:"
   ]
  },
  {
   "cell_type": "code",
   "execution_count": null,
   "metadata": {},
   "outputs": [],
   "source": [
    "board_id = input(\"Trello bord-ID? \")\n",
    "print(\"Ingevuld bord-ID: \", board_id)"
   ]
  },
  {
   "cell_type": "markdown",
   "metadata": {
    "slideshow": {
     "slide_type": "slide"
    }
   },
   "source": [
    "### webhook-URL\n",
    "\n",
    "NodeRed-server URL -> Trello webhook"
   ]
  },
  {
   "cell_type": "code",
   "execution_count": null,
   "metadata": {},
   "outputs": [],
   "source": [
    "webhook_url = \"https://{user}:{passwd}@{user}.fred.sensetecnic.com/api/trello\".format(\n",
    "                 user = fred_username,\n",
    "                 passwd = urllib.parse.quote(fred_password)\n",
    "              )\n",
    "webhook_url"
   ]
  },
  {
   "cell_type": "markdown",
   "metadata": {
    "slideshow": {
     "slide_type": "skip"
    }
   },
   "source": [
    "De gegevens voor een webhook bestaan, naast de URL, uit een beschrijving en een *model*.\n",
    "Dit model is het Trello-onderdeel waarvoor je een webhook-bericht wilt hebben.\n",
    "In ons geval is dat een Trello-bord.\n",
    "\n",
    "Deze gegevens voor Trello moeten in het volgende formaat aangeboden worden:"
   ]
  },
  {
   "cell_type": "markdown",
   "metadata": {
    "slideshow": {
     "slide_type": "slide"
    }
   },
   "source": [
    "## Trello webhook data"
   ]
  },
  {
   "cell_type": "code",
   "execution_count": null,
   "metadata": {
    "slideshow": {
     "slide_type": "-"
    }
   },
   "outputs": [],
   "source": [
    "data = {\n",
    "    \"description\": \"My first webhook\",\n",
    "    \"callbackURL\": webhook_url,\n",
    "    \"idModel\": board_id \n",
    "}"
   ]
  },
  {
   "cell_type": "markdown",
   "metadata": {
    "slideshow": {
     "slide_type": "slide"
    }
   },
   "source": [
    "## Trello webhook API request"
   ]
  },
  {
   "cell_type": "code",
   "execution_count": null,
   "metadata": {},
   "outputs": [],
   "source": [
    "response = requests.post(\n",
    "   \"https://api.trello.com/1/tokens/{api_token}/webhooks?key={api_key}\".format(\n",
    "       api_token = trello_token,\n",
    "       api_key = api_key\n",
    "   ),\n",
    "   headers={\"Accept\": \"application/json\"},\n",
    "   data=data\n",
    ")\n",
    "response.status_code"
   ]
  },
  {
   "cell_type": "markdown",
   "metadata": {
    "slideshow": {
     "slide_type": "skip"
    }
   },
   "source": [
    "*Opmerking*: zie de Trello-documentatie voor de levensduur van deze webhook:\n",
    "[https://developer.atlassian.com/cloud/trello/guides/rest-api/webhooks/](https://developer.atlassian.com/cloud/trello/guides/rest-api/webhooks/)."
   ]
  },
  {
   "cell_type": "markdown",
   "metadata": {
    "slideshow": {
     "slide_type": "slide"
    }
   },
   "source": [
    "## De ultieme test\n",
    "\n",
    "* voer een actie uit op het Trello-bord\n",
    "* Trello stuurt \"action\" naar webhook-URL (NodeRed)\n",
    "    * bekijk Trello-gegevens in NodeRed debug\n",
    "* NodeRed stuurt message naar Matrix\n",
    "\n",
    "Succes!"
   ]
  },
  {
   "cell_type": "markdown",
   "metadata": {},
   "source": [
    "----"
   ]
  },
  {
   "cell_type": "markdown",
   "metadata": {
    "slideshow": {
     "slide_type": "slide"
    }
   },
   "source": [
    "Bord-id (voorbeeld): 5fd0a63b80e957561238d3d1"
   ]
  }
 ],
 "metadata": {
  "celltoolbar": "Diavoorstelling",
  "kernelspec": {
   "display_name": "Python 3",
   "language": "python",
   "name": "python3"
  },
  "language_info": {
   "codemirror_mode": {
    "name": "ipython",
    "version": 3
   },
   "file_extension": ".py",
   "mimetype": "text/x-python",
   "name": "python",
   "nbconvert_exporter": "python",
   "pygments_lexer": "ipython3",
   "version": "3.7.9"
  },
  "toc": {
   "base_numbering": 1,
   "nav_menu": {},
   "number_sections": false,
   "sideBar": true,
   "skip_h1_title": true,
   "title_cell": "Table of Contents",
   "title_sidebar": "Contents",
   "toc_cell": false,
   "toc_position": {},
   "toc_section_display": true,
   "toc_window_display": false
  }
 },
 "nbformat": 4,
 "nbformat_minor": 4
}
