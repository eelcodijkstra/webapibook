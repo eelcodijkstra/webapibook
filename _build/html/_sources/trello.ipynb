{
 "cells": [
  {
   "cell_type": "markdown",
   "metadata": {
    "slideshow": {
     "slide_type": "slide"
    }
   },
   "source": [
    "# Voorbeeld: Trello\n",
    "\n",
    "Trello ([https://trello.com](https://trello.com)) is een web-toepassing waarin je met borden, lijsten en kaartjes een planning kunt maken. Trello heeft een web-API waarmee je deze toepassing kunt besturen. Via dit web-API kan Trello met extra functionaliteit uitgrebreid worden (\"power-ups\"), en zijn er verbindingen (\"integrations\") met andere toepassingen mogelijk.\n",
    "\n",
    "In dit hoofdstuk geven we een inleiding in het gebruik van deze web-API.\n",
    "We vragen borden, lijsten en kaartjes op; en maken een bord aan, met daarop een kaartje, dat we van de ene lijst naar de andere verplaatsen. En we ruimen het bord weer op."
   ]
  },
  {
   "cell_type": "markdown",
   "metadata": {
    "slideshow": {
     "slide_type": "slide"
    }
   },
   "source": [
    "## Trello begrippen\n",
    "\n",
    "Een Trello-bord (board) bestaat uit een serie lijsten (lists); elke lijst bestaat uit een serie kaartjes (cards). Op de kaartjes kun je allerlei informatie plaatsen, en je kunt de kaartjes van de ene lijst naar de andere verplaatsen. Vaak-gebruikte lijsten zijn \"To Do\", \"Doing\", en \"Done\". \n",
    "\n",
    "Andere Trello-begrippen zijn acties (actions), attachments, organizations, enz. In dit materiaal gaan we daar niet verder op in. \n",
    "\n",
    "De beschrijving van de Trello API vind je op https://developer.atlassian.com/cloud/trello/"
   ]
  },
  {
   "cell_type": "markdown",
   "metadata": {
    "slideshow": {
     "slide_type": "slide"
    }
   },
   "source": [
    "## Importeren Python libraries\n",
    "\n",
    "Voor het gebruik van de Trello API hebben we de Python-libraries `requests` en `json` nodig."
   ]
  },
  {
   "cell_type": "markdown",
   "metadata": {},
   "source": [
    "```{tip} Uitvoeren van de opdrachten\n",
    "Je kunt de onderstaande opdrachten uitvoeren in een interactief Jupyter Notebook.\n",
    "Klik daarvoor op de Binder-knop hierboven, onder de \"raket\". Er wordt dan een server opgestart met dit hoofdstuk als interactief Notebook.\n",
    "\n",
    "Als je nog geen ervaring hebt met Jupyter Notebook, is het handig om eerst de [Inleiding Jupyter Notebook](Inleiding-Jupyter.ipynb) door te werken.\n",
    "```"
   ]
  },
  {
   "cell_type": "code",
   "execution_count": null,
   "metadata": {
    "slideshow": {
     "slide_type": "-"
    }
   },
   "outputs": [],
   "source": [
    "import requests\n",
    "import json"
   ]
  },
  {
   "cell_type": "markdown",
   "metadata": {
    "slideshow": {
     "slide_type": "slide"
    }
   },
   "source": [
    "## Authenticatie/autorisatie\n",
    "\n",
    "Voor het gebruik van Trello via de normale user interface moet je inloggen, met een gebruikersnaam en wachtwoord. Op dezelfde manier moet je je identificeren en authenticeren bij het gebruik van de web-API. Daarvoor zijn twee onderdelen nodig: de Api-key, die gekoppeld is aan de ontwikkelaar (script-programmeur), en een token, dat gekoppeld is aan de gebruiker/borden, met de nodige toegangsrechten (autorisatie). \n",
    "\n",
    "* Log in bij Trello\n",
    "* Je Api-key kun je ophalen via: https://trello.com/app-key/\n",
    "* De waarde die je daar vindt vul je in als invoer voor de volgende cel (eerst uitvoeren: shift-return, dan invoer geven, afgesloten met de return-toets)\n",
    "* Je krijgt nu te zien: \"ingevulde api_key\", met de waarde \n",
    "* Ga daarna met pijltjes naar volgende cel."
   ]
  },
  {
   "cell_type": "code",
   "execution_count": null,
   "metadata": {},
   "outputs": [],
   "source": [
    "api_key = input(\"API-key? \")\n",
    "print(\"ingevulde api_key: \" + api_key)"
   ]
  },
  {
   "cell_type": "markdown",
   "metadata": {
    "slideshow": {
     "slide_type": "slide"
    }
   },
   "source": [
    "## API-token\n",
    "\n",
    "De beschrijving van de authenticatie en autorisatie vind je op https://developer.atlassian.com/cloud/trello/guides/rest-api/authorization/ .\n",
    "De stappen hieronder zijn een uitwerking daarvan.\n",
    "\n",
    "Het API-token geeft toegang tot de borden van de gebruiker. Via de onderstaande URL vraag je een token aan voor je eigen borden. Daar moet je toestemming voor geven.\n",
    "\n",
    "Je kunt de URL eventueel aanpassen: de URL hieronder geeft toestemming voor 1 dag (`expiration=1day`), voor lezen en schrijven (`scope=read,write`). Je kunt ook kiezen voor een langere periode. Je kunt ook eerst werken met alleen lezen, maar voor de latere opdrachten heb je ook schrijfrechten nodig.\n",
    "\n",
    "* Voer eerst de cel hieronder uit; deze geeft een URL als resultaat\n",
    "* **Klik op die URL**: daarmee krijg je een scherm waarin je toestemming moet geven voor toegang tot je borden.\n",
    "* Nadat je toestemming gegeven hebt krijg je een scherm met het token; kopieer dit token (Copy)."
   ]
  },
  {
   "cell_type": "code",
   "execution_count": null,
   "metadata": {},
   "outputs": [],
   "source": [
    "url = \"https://trello.com/1/authorize?expiration=1day&name=MyTestToken&scope=read,write&response_type=token&key=\" + api_key\n",
    "print(url)"
   ]
  },
  {
   "cell_type": "markdown",
   "metadata": {},
   "source": [
    "* Voer de onderstaande cel uit, en vul (Paste) het token in bij de invoer, gevolgd door een return.\n",
    "* Je krijgt te zien: \"ingevuld token\" met de ingevulde waarde.\n",
    "* Ga met de pijltjes naar de volgende cel."
   ]
  },
  {
   "cell_type": "code",
   "execution_count": null,
   "metadata": {},
   "outputs": [],
   "source": [
    "token = input(\"token? \")\n",
    "print(\"ingevuld token: \", token)"
   ]
  },
  {
   "cell_type": "markdown",
   "metadata": {
    "slideshow": {
     "slide_type": "slide"
    }
   },
   "source": [
    "## Opvragen van borden\n",
    "\n",
    "Als eerste stap vraag je de beschikbare borden op.\n",
    "In de URL moet je de api_key en het token meegeven, voor de authenticatie/autorisatie.\n",
    "Daarnaast kun je (via `field`) aangeven welke velden je wilt hebben van de bord-objecten:\n",
    "er zijn heel veel velden, maar meestal ben je maar in een paar geïnteresseerd.\n",
    "\n",
    "Deze gegevens geef je als `parameters` mee achter het `?` in de URL: daar zorgt de `requests` library voor.\n",
    "\n",
    "* voer de volgende twee cellen uit;\n",
    "* als de status_code 200 is, dan is de opdracht geslaagd; anders is er mogelijk iets mis met de key/token combinatie."
   ]
  },
  {
   "cell_type": "code",
   "execution_count": null,
   "metadata": {},
   "outputs": [],
   "source": [
    "parameters = {\n",
    "   'key': api_key,\n",
    "   'token': token,\n",
    "   'fields': 'name,id,url'\n",
    "}"
   ]
  },
  {
   "cell_type": "code",
   "execution_count": null,
   "metadata": {
    "slideshow": {
     "slide_type": "subslide"
    }
   },
   "outputs": [],
   "source": [
    "response = requests.get(\n",
    "   \"https://api.trello.com/1/members/me/boards\",\n",
    "   headers={\"Accept\": \"application/json\"},\n",
    "   params=parameters\n",
    ")\n",
    "response.status_code"
   ]
  },
  {
   "cell_type": "markdown",
   "metadata": {},
   "source": [
    "* Als de status_code 200 is, dan is het resultaat beschikbaar in JSON-formaat:"
   ]
  },
  {
   "cell_type": "code",
   "execution_count": null,
   "metadata": {},
   "outputs": [],
   "source": [
    "boards = response.json()\n",
    "boards"
   ]
  },
  {
   "cell_type": "code",
   "execution_count": null,
   "metadata": {
    "slideshow": {
     "slide_type": "subslide"
    }
   },
   "outputs": [],
   "source": [
    "for board in boards:\n",
    "    print(board[\"name\"], \" - \", board[\"id\"])"
   ]
  },
  {
   "cell_type": "markdown",
   "metadata": {},
   "source": [
    "* Het laatste bord in de lijst:"
   ]
  },
  {
   "cell_type": "code",
   "execution_count": null,
   "metadata": {
    "slideshow": {
     "slide_type": "subslide"
    }
   },
   "outputs": [],
   "source": [
    "boards[-1]"
   ]
  },
  {
   "cell_type": "markdown",
   "metadata": {
    "slideshow": {
     "slide_type": "slide"
    }
   },
   "source": [
    "## Opvragen van lijsten\n",
    "\n",
    "* De volgende stap is het opvragen van de lijsten van één van de borden, bijvoorbeeld het laatste bord uit het overzicht. (Pas dit eventueel hieronder aan.)"
   ]
  },
  {
   "cell_type": "code",
   "execution_count": null,
   "metadata": {},
   "outputs": [],
   "source": [
    "board_id = boards[-1][\"id\"]\n",
    "\n",
    "parameters = {\n",
    "   'key': api_key,\n",
    "   'token': token,\n",
    "   'fields': 'name,id' \n",
    "}\n",
    "\n",
    "response = requests.get(\n",
    "   \"https://api.trello.com/1/boards/{id}/lists\".format(\n",
    "       id = board_id\n",
    "   ),\n",
    "   headers={\"Accept\": \"application/json\"},\n",
    "   params=parameters\n",
    ")\n",
    "response.status_code"
   ]
  },
  {
   "cell_type": "markdown",
   "metadata": {},
   "source": [
    "* Als de status_code 200 is, is het resultaat als JSON beschikbaar:"
   ]
  },
  {
   "cell_type": "code",
   "execution_count": null,
   "metadata": {
    "slideshow": {
     "slide_type": "subslide"
    }
   },
   "outputs": [],
   "source": [
    "lists = response.json()\n",
    "lists"
   ]
  },
  {
   "cell_type": "markdown",
   "metadata": {
    "slideshow": {
     "slide_type": "slide"
    }
   },
   "source": [
    "## Opvragen van de lijst-kaartjes\n",
    "\n",
    "* De namen en id's van de kaartjes van de eerste lijst vraag je op met de URL `/lists/{id}/cards`, waarin `{id}` de identificatie van deze eerste lijst is:"
   ]
  },
  {
   "cell_type": "code",
   "execution_count": null,
   "metadata": {},
   "outputs": [],
   "source": [
    "list_id = lists[0][\"id\"]\n",
    "\n",
    "parameters = {\n",
    "   'key': api_key,\n",
    "   'token': token,\n",
    "   'fields': 'name,id' \n",
    "}\n",
    "\n",
    "response = requests.get(\n",
    "   \"https://api.trello.com/1/lists/{id}/cards\".format(\n",
    "       id = list_id\n",
    "   ),\n",
    "   headers={\"Accept\": \"application/json\"},\n",
    "   params=parameters\n",
    ")\n",
    "response.status_code"
   ]
  },
  {
   "cell_type": "code",
   "execution_count": null,
   "metadata": {
    "slideshow": {
     "slide_type": "subslide"
    }
   },
   "outputs": [],
   "source": [
    "cards = response.json()\n",
    "cards"
   ]
  },
  {
   "cell_type": "markdown",
   "metadata": {
    "slideshow": {
     "slide_type": "slide"
    }
   },
   "source": [
    "## Opvragen van een kaartje\n",
    "\n",
    "* Met de volgende opdracht haal je de gegevens van het eerste kaartje uit de lijst op.\n",
    "* Pas eventueel de lijst met velden aan die je van dit kaartje wilt zien."
   ]
  },
  {
   "cell_type": "code",
   "execution_count": null,
   "metadata": {},
   "outputs": [],
   "source": [
    "card_id = cards[0][\"id\"]\n",
    "\n",
    "parameters = {\n",
    "   'key': api_key,\n",
    "   'token': token,\n",
    "   'fields': \"name,desc,id,url\"\n",
    "}\n",
    "\n",
    "response = requests.get(\n",
    "   \"https://api.trello.com/1/cards/{id}\".format(\n",
    "       id = card_id\n",
    "   ),\n",
    "   headers={\"Accept\": \"application/json\"},\n",
    "   params=parameters\n",
    ")\n",
    "response.status_code"
   ]
  },
  {
   "cell_type": "code",
   "execution_count": null,
   "metadata": {
    "slideshow": {
     "slide_type": "subslide"
    }
   },
   "outputs": [],
   "source": [
    "my_card = response.json()\n",
    "my_card"
   ]
  },
  {
   "cell_type": "markdown",
   "metadata": {},
   "source": [
    "**Opdracht**\n",
    "\n",
    "* Zoek uit welke velden beschikbaar zijn voor een card (zie de API-beschrijving).\n",
    "* Voeg twee velden toe in bovenstaande code, en voer de opdracht nog een keer uit."
   ]
  },
  {
   "cell_type": "markdown",
   "metadata": {
    "slideshow": {
     "slide_type": "slide"
    }
   },
   "source": [
    "## Een nieuw bord\n",
    "\n",
    "```{Admonition} Trello in het Nederlands?\n",
    "Bij deze opdrachten gaan er er van uit dat je de Engelstalige versie van Trello gebruikt.\n",
    "In de Nederlandstalige versie heten de lijsten anders.\n",
    "Pas waar nodig de programmatekst aan.\n",
    "```\n",
    "\n",
    "Maak een nieuw bord aan, met de default-lijsten: \n",
    "\n",
    "* To Do, Doing, Done"
   ]
  },
  {
   "cell_type": "code",
   "execution_count": null,
   "metadata": {},
   "outputs": [],
   "source": [
    "parameters = {\n",
    "   'key': api_key,\n",
    "   'token': token,\n",
    "   'name': \"API test board\"\n",
    "}\n",
    "\n",
    "response = requests.post(\n",
    "   \"https://api.trello.com/1/boards\",\n",
    "   headers={\"Accept\": \"application/json\"},\n",
    "   params=parameters\n",
    ")\n",
    "response.status_code"
   ]
  },
  {
   "cell_type": "code",
   "execution_count": null,
   "metadata": {
    "slideshow": {
     "slide_type": "subslide"
    }
   },
   "outputs": [],
   "source": [
    "my_board = response.json()\n",
    "my_board"
   ]
  },
  {
   "cell_type": "markdown",
   "metadata": {},
   "source": [
    "**Opdracht (2e ronde - begin hier)**\n",
    "\n",
    "Voer deze opdracht uit nadat je alle onderstaande opdrachten uitgevoerd hebt, en het bord weer opgeruimd is.\n",
    "\n",
    "* Zoek uit hoe je een bord aanmaakt zonder de default-lijsten, en\n",
    "* Pas de opdracht hierboven om een leeg bord aan te maken\n",
    "* Zoek uit hoe je in de API een lijst aan een bord toevoegt\n",
    "* Voeg achtereenvolgens de lijsten `Backlog`, `To Do`, `Doing`, `Testing`, `Done` toe\n",
    "* Gebruik de onderstaande cellen voor het maken van een request voor het toevoegen van een lijst aan een bord."
   ]
  },
  {
   "cell_type": "code",
   "execution_count": null,
   "metadata": {},
   "outputs": [],
   "source": []
  },
  {
   "cell_type": "code",
   "execution_count": null,
   "metadata": {},
   "outputs": [],
   "source": []
  },
  {
   "cell_type": "markdown",
   "metadata": {
    "slideshow": {
     "slide_type": "slide"
    }
   },
   "source": [
    "## Bepaal lijsten\n",
    "\n",
    "* Vraag de lijsten van het nieuwe bord op."
   ]
  },
  {
   "cell_type": "code",
   "execution_count": null,
   "metadata": {},
   "outputs": [],
   "source": [
    "parameters = {\n",
    "   'key': api_key,\n",
    "   'token': token,\n",
    "   'fields': 'name,id' \n",
    "}\n",
    "\n",
    "response = requests.get(\n",
    "   \"https://api.trello.com/1/boards/{id}/lists\".format(\n",
    "       id = my_board[\"id\"]\n",
    "   ),\n",
    "   headers={\"Accept\": \"application/json\"},\n",
    "   params=parameters\n",
    ")\n",
    "response.status_code"
   ]
  },
  {
   "cell_type": "code",
   "execution_count": null,
   "metadata": {
    "slideshow": {
     "slide_type": "subslide"
    }
   },
   "outputs": [],
   "source": [
    "my_lists = response.json()\n",
    "my_lists"
   ]
  },
  {
   "cell_type": "markdown",
   "metadata": {
    "slideshow": {
     "slide_type": "slide"
    }
   },
   "source": [
    "## Lijsten in Python dictionary\n",
    "\n",
    "Om deze lijsten beter te kunnen hanteren maken we hiervan een Python dictionary, zodat je de identificatie van een lijst via de naam kunt vinden, bijvoorbeeld `list_ids[\"Done\"].\n",
    "\n",
    "* zet het resultaat om in een Python dictionary `list_ids`."
   ]
  },
  {
   "cell_type": "code",
   "execution_count": null,
   "metadata": {},
   "outputs": [],
   "source": [
    "list_ids = {}\n",
    "for elem in my_lists:\n",
    "    print(elem)\n",
    "    name = elem[\"name\"]\n",
    "    list_ids[name] = elem[\"id\"]"
   ]
  },
  {
   "cell_type": "code",
   "execution_count": null,
   "metadata": {},
   "outputs": [],
   "source": [
    "list_ids[\"To Do\"]"
   ]
  },
  {
   "cell_type": "markdown",
   "metadata": {
    "slideshow": {
     "slide_type": "slide"
    }
   },
   "source": [
    "## Nieuw kaartje in lijst *To Do*\n",
    "\n",
    "We kunnen nu een nieuw kaartje aanmaken in de lijst \"To Do\".\n",
    "Voor dit nieuwe kaartje kunnen we allerlei gegevens invullen; we beperken ons hier tot de naam, beschrijving en positie in de lijst.\n",
    "\n",
    "* Maak een nieuwe kaart aan in de lijst \"To Do\"."
   ]
  },
  {
   "cell_type": "code",
   "execution_count": null,
   "metadata": {},
   "outputs": [],
   "source": [
    "parameters = {\n",
    "   'key': api_key,\n",
    "   'token': token,\n",
    "   'name': \"A new card\",\n",
    "   'desc': \"A card generated via the API\",\n",
    "   'pos': 'top',\n",
    "   'idList': list_ids[\"To Do\"]\n",
    "}\n",
    "\n",
    "response = requests.post(\n",
    "   \"https://api.trello.com/1/cards\",\n",
    "   headers={\"Accept\": \"application/json\"},\n",
    "   params=parameters\n",
    ")\n",
    "response.status_code"
   ]
  },
  {
   "cell_type": "code",
   "execution_count": null,
   "metadata": {
    "slideshow": {
     "slide_type": "subslide"
    }
   },
   "outputs": [],
   "source": [
    "new_card = response.json()\n",
    "new_card"
   ]
  },
  {
   "cell_type": "markdown",
   "metadata": {},
   "source": [
    "**Opdracht (2e ronde)**\n",
    "\n",
    "* zoek uit in de API-beschrijving welke gegevens je allemaal op een kaartje kunt invullen\n",
    "* maak nog een kaartje aan in dezelfde lijst, met een andere naam, en met één of meer labels.\n",
    "* gebruik hiervoor de onderstaande cellen."
   ]
  },
  {
   "cell_type": "code",
   "execution_count": null,
   "metadata": {},
   "outputs": [],
   "source": []
  },
  {
   "cell_type": "code",
   "execution_count": null,
   "metadata": {},
   "outputs": [],
   "source": []
  },
  {
   "cell_type": "markdown",
   "metadata": {
    "slideshow": {
     "slide_type": "slide"
    }
   },
   "source": [
    "## Verplaats kaartje naar lijst *Doing*\n",
    "\n",
    "Voor het wijzigen (update) van een kaartje gebruik je de method `PUT`.\n",
    "In de parameters geef je de velden aan die je wilt veranderen.\n",
    "\n",
    "* Verplaats de card door een andere `idList` op te geven."
   ]
  },
  {
   "cell_type": "code",
   "execution_count": null,
   "metadata": {},
   "outputs": [],
   "source": [
    "parameters = {\n",
    "   'key': api_key,\n",
    "   'token': token,\n",
    "   'idList': list_ids[\"Doing\"]\n",
    "}\n",
    "\n",
    "response = requests.put(\n",
    "   \"https://api.trello.com/1/cards/{id}\".format(\n",
    "       id = new_card[\"id\"]\n",
    "   ),\n",
    "   headers={\"Accept\": \"application/json\"},\n",
    "   params=parameters\n",
    ")\n",
    "response.status_code"
   ]
  },
  {
   "cell_type": "code",
   "execution_count": null,
   "metadata": {
    "slideshow": {
     "slide_type": "subslide"
    }
   },
   "outputs": [],
   "source": [
    "new_card = response.json()\n",
    "print(new_card[\"url\"])"
   ]
  },
  {
   "cell_type": "markdown",
   "metadata": {},
   "source": [
    "**Opdracht (2e ronde)**\n",
    "\n",
    "* Zoek in de API-beschrijving uit welke velden je op een card kunt aanpassen.\n",
    "* Verander tenminste 1 ander veld op het kaartje\n",
    "* gebruik hiervoor de cellen hieronder"
   ]
  },
  {
   "cell_type": "code",
   "execution_count": null,
   "metadata": {},
   "outputs": [],
   "source": []
  },
  {
   "cell_type": "code",
   "execution_count": null,
   "metadata": {},
   "outputs": [],
   "source": []
  },
  {
   "cell_type": "markdown",
   "metadata": {
    "slideshow": {
     "slide_type": "slide"
    }
   },
   "source": [
    "## Verwijder kaartje\n",
    "\n",
    "Soms moet je een kaartje verwijderen. Dat kan met de `DELETE` method.\n",
    "\n",
    "* Verwijder het kaartje dat je zojuist aangemaakt hebt."
   ]
  },
  {
   "cell_type": "code",
   "execution_count": null,
   "metadata": {},
   "outputs": [],
   "source": [
    "parameters = {\n",
    "   'key': api_key,\n",
    "   'token': token\n",
    "}\n",
    "\n",
    "response = requests.delete(\n",
    "   \"https://api.trello.com/1/cards/{id}\".format(\n",
    "       id = new_card[\"id\"]\n",
    "   ),\n",
    "   headers={\"Accept\": \"application/json\"},\n",
    "   params=parameters\n",
    ")\n",
    "response.status_code"
   ]
  },
  {
   "cell_type": "markdown",
   "metadata": {
    "slideshow": {
     "slide_type": "slide"
    }
   },
   "source": [
    "## Ruim het bord op\n",
    "\n",
    "Je kunt nu het bord weer opruimen, met een `DELETE` voor het bord.\n",
    "\n",
    "* Verwijder het bord"
   ]
  },
  {
   "cell_type": "code",
   "execution_count": null,
   "metadata": {},
   "outputs": [],
   "source": [
    "parameters = {\n",
    "   'key': api_key,\n",
    "   'token': token\n",
    "}\n",
    "\n",
    "response = requests.delete(\n",
    "   \"https://api.trello.com/1/boards/{id}\".format(\n",
    "       id = my_board[\"id\"]\n",
    "   ),\n",
    "   headers={\"Accept\": \"application/json\"},\n",
    "   params=parameters\n",
    ")\n",
    "response.status_code"
   ]
  },
  {
   "cell_type": "markdown",
   "metadata": {
    "slideshow": {
     "slide_type": "slide"
    }
   },
   "source": [
    "## Volgende opdrachten\n",
    "\n",
    "**2e ronde**: voer de opdrachten vanaf het aanmaken van een nieuw bord opnieuw uit, en voer daarbij de opdrachten uit die gelabeld zijn met \"2e ronde\".\n",
    "\n",
    "**3e ronde**: zoek uit wat er nog meer mogelijk is met de Trello API, bijvoorbeeld op het gebied van Actions, en maak daarbij je eigen API-requests."
   ]
  },
  {
   "cell_type": "code",
   "execution_count": null,
   "metadata": {},
   "outputs": [],
   "source": []
  },
  {
   "cell_type": "code",
   "execution_count": null,
   "metadata": {},
   "outputs": [],
   "source": []
  }
 ],
 "metadata": {
  "celltoolbar": "Diavoorstelling",
  "kernelspec": {
   "display_name": "Python 3",
   "language": "python",
   "name": "python3"
  },
  "language_info": {
   "codemirror_mode": {
    "name": "ipython",
    "version": 3
   },
   "file_extension": ".py",
   "mimetype": "text/x-python",
   "name": "python",
   "nbconvert_exporter": "python",
   "pygments_lexer": "ipython3",
   "version": "3.7.9"
  },
  "toc": {
   "base_numbering": 1,
   "nav_menu": {},
   "number_sections": false,
   "sideBar": true,
   "skip_h1_title": false,
   "title_cell": "Table of Contents",
   "title_sidebar": "Contents",
   "toc_cell": false,
   "toc_position": {
    "height": "calc(100% - 180px)",
    "left": "10px",
    "top": "150px",
    "width": "165px"
   },
   "toc_section_display": true,
   "toc_window_display": false
  }
 },
 "nbformat": 4,
 "nbformat_minor": 4
}
