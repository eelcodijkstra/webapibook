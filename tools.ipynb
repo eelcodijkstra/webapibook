{
 "cells": [
  {
   "cell_type": "markdown",
   "metadata": {},
   "source": [
    "# Tools\n",
    "\n",
    "Voor het uittesten van web-API's zijn er enkele handige hulpmiddelen, naast de Jupyter Notebooks zoals we die hier gebruiken."
   ]
  },
  {
   "cell_type": "markdown",
   "metadata": {},
   "source": [
    "## NodeRed\n",
    "\n",
    "Met NodeRed kun je op een grafische manier allerlei protocollen en API's aan elkaar verbinden."
   ]
  },
  {
   "cell_type": "markdown",
   "metadata": {},
   "source": [
    "## Postman\n",
    "\n",
    "Met Postman (desktop application) kun je API's uittesten.\n",
    "Je kunt gemakkelijk de verschillende soorten parameters instellen, en de resultaten op verschillende manieren bekijken.\n",
    "Voorbeelden en scenario's kun je bewaren.\n"
   ]
  },
  {
   "cell_type": "markdown",
   "metadata": {},
   "source": [
    "## curl\n",
    "\n",
    "Met `curl` kun je via de unix/Linux command-line HTTP-requests versturen.\n",
    "\n",
    "Er is ook een bijbehorende library die je in programma's kunt gebruiken.\n"
   ]
  },
  {
   "cell_type": "code",
   "execution_count": null,
   "metadata": {},
   "outputs": [],
   "source": []
  }
 ],
 "metadata": {
  "kernelspec": {
   "display_name": "Python 3",
   "language": "python",
   "name": "python3"
  },
  "language_info": {
   "codemirror_mode": {
    "name": "ipython",
    "version": 3
   },
   "file_extension": ".py",
   "mimetype": "text/x-python",
   "name": "python",
   "nbconvert_exporter": "python",
   "pygments_lexer": "ipython3",
   "version": "3.7.9"
  }
 },
 "nbformat": 4,
 "nbformat_minor": 4
}
