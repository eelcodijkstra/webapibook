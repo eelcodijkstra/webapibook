{
 "cells": [
  {
   "cell_type": "markdown",
   "metadata": {},
   "source": [
    "# REST API's\n",
    "\n",
    "REST web-API's volgen een bepaalde stijl die aansluit bij de principes (*architectuur*) van het web.\n",
    "Als je deze stijl kent, kun je redelijk snel begrijpen hoe een bepaald API in deze stijl werkt.\n",
    "\n",
    "Naast REST zijn er ook andere stijlen van web-API's in gebruik, zoals RPC (remote procedure call) of SOAP (???).\n",
    "Tegenwoordig wint de GraphQL-stijl aan populariteit. \n",
    "Daarmee kun je wat preciezer aangeven welke data je wilt ophalen via de API.\n",
    "\n"
   ]
  },
  {
   "cell_type": "markdown",
   "metadata": {},
   "source": [
    "## REST\n",
    "\n",
    "REST staat voor Representational State Transfer. (REF - wikipedia)\n",
    "Dit is gebaseerd op het volgende model van het web:\n",
    "\n",
    "* resource: dit is de web-term voor \"ding\"; dit kan zowel een concreet iets zijn, zoals een lamp; een persoon, zoals Rembrandt; of een abstract idee, zoals democratie.\n",
    "* URI en URL: een resource kun je identificeren met een URI (uniform resource identifier) of een URL (uniform resource locator). Deze identificaties zijn context-onafhankelijk: overal waar je deze gebruikt heeft deze dezelfde betekenis. Het voordeel van een URL is dat deze ook aangeeft waar je meer over de resource kunt vinden.\n",
    "    * voor gewone namen is dat niet het geval: de betekenis daarvan hangt sterk af van de context.  \n",
    "* toestand (state) van een resource: een resource heeft een toestand. Deze toestand kun je beschrijven (\"representeren\") door middel van een document, bijvoorbeeld (in de context van het web) een HTML-document of een JSON-document. Bij een resource kun je verschillende documenten hebben die  de toestand beschrijven, afhnakelijk van de wensen van de gebruiker (bijvoorbeeld: HTML, in het Engels of in het Nederladnds; of JSON).\n",
    "* door middel van een document (-aanpassing) kun je de toestand van de resource veranderen - als dat mogelijk is via dit interface.\n",
    "* HTTP-methods: met behulp van de verschillende HTTP-methods kun je de toestand van een resource opvragen, aanpassen, een resource aanmaken of verwijderen. Daarbij is het belangrijk dat je de recht doet aan de normale betekenis van de HTTP-methods, zoals `GET` voor het opvragen van de toestand."
   ]
  },
  {
   "cell_type": "markdown",
   "metadata": {},
   "source": [
    "## Eigenschappen HTTP methods\n",
    "\n",
    "In een REST API houd je rekening met de betekenis en eigenschappen van de HTTP-methods. \n",
    "(Er is niets dat dit gebruik afdwingt, maar dit zijn wel de aannames die overal in de web-infrastructuur gebruikt worden.)\n",
    "\n",
    "* GET: idempotent; geen verandering in toestand van de resource\n",
    "* POST: niet idempotent; (mogelijk) verandering in de toestand van de resource\n",
    "* PUT: idempotent; verandering in de toestan\n",
    "* DELETE: idempotent; verandering in de toestand\n",
    "\n",
    "Eén van de gevolgen is dat je eenzelfde GET-operaties zonder problemen kunt herhalen. \n",
    "Voor een POST is dat niet het geval: de browser vraagt daarom bijvoorbeeld of je de opdracht nog een keer wilt uitvoeren. Het nogmaals opsturen van een formulier kan bijvoorbeeld betekenen dat je het artkel nog een keer bestelt.\n",
    "De `PUT` en `DELETE` operaties zijn wel idempotent."
   ]
  },
  {
   "cell_type": "markdown",
   "metadata": {},
   "source": [
    "**idempotent: (tegen)voorbeelden**\n",
    "\n",
    "* `i := 10` is idempotent en verandert de waarde (toestand) van `i`\n",
    "* `i := i + 1` verandert de waarde van `i` op een niet-idempotente manier.\n",
    "* op een afstandsbediening is het kiezen van NPO-1 idempotent,\n",
    "* en het zappen naar de volgende zender niet idempotent\n",
    "\n",
    "Idempotente operaties zijn vooral handig is de communicatie niet volledig betrouwbaar is (zoals in het web):\n",
    "als je niet weet of een bericht overgekomen is, kun je dat zonder risico nog een keer sturen.\n",
    "\n",
    "Nog een voorbeeld: een bediening van een lamp met twee knoppen, \"aan\" en \"uit\", is idempotent.\n",
    "Dit soort knoppen vind je vaak bij IoT-apparaten, waarbij het niet altijd duidelijk is of een bericht niet aangekomen is,\n",
    "of dat de verwerking wat langer duurt dan je verwacht."
   ]
  },
  {
   "cell_type": "markdown",
   "metadata": {},
   "source": [
    "## Collecties van resources\n",
    "\n",
    "Vaak heb je te maken met een collectie van soortgelijke resources waarbinnen je de individuele resources wilt kunnen onderscheiden.\n",
    "Een gebruikelijke manier is om de verzameling een naam te geven, en de elementen daarin een nummer als identificatie.\n",
    "\n",
    "We gebruiken hier als naam voor een verzameling het *meervoud*, dus bijvoorbeeld: `lists`, of `cards`.\n",
    "Een bepaalde lijst geven we dan bijvoorbeeld aan als: `lists/53`, een kaart als `cards/92`. Een kaart als onderdeel van een lijst: `lists/53/cards/11`. Dit laatste is een voorbeeld van een *geneste resource*.\n",
    "\n",
    "> Sommige web-API's gebruiken enkelvoud in plaats van meervoud voor het benoemen van een collectie. Trello accepteert zowel meervoud (volgens de documentatie) als enkelvoud (als alternatief)."
   ]
  },
  {
   "cell_type": "markdown",
   "metadata": {},
   "source": [
    "## Voorbeeld: lamp aan- en uitschakelen\n",
    "\n",
    "Voor het aansturen van een lamp kun je de volgende API gebruiken:\n",
    "\n",
    "* URL: `/lamps/17` - dit is de identificatie van de lamp (pad-gedeelte van de URL)\n",
    "* \n",
    "\n",
    "Opmerking: in dit geval is de URL van de lamp lokaal: je gebruikt immers een lokaal netwerkadres.\n",
    "Dit betekent dat je deze lamp niet wereldwijd op dezelfde manier kunt identificeren; maar misschien wil je dat ook niet."
   ]
  },
  {
   "cell_type": "markdown",
   "metadata": {},
   "source": [
    "## CRUD\n",
    "\n",
    "In de database-wereld staat CRUD voor: create, read, update, delete. Dit zijn de basisoperaties op de elementen in een database.\n",
    "\n",
    "Met behulp van een REST API kun je dit als volgt uitvoeren, voor een collectie van `things`.\n",
    "\n",
    "| method | `/things`            | `/things/id`            |\n",
    "| :--    | :--                  | :--                     |\n",
    "| GET    | get all things (ids) | get state of thing `id` |\n",
    "| POST   | create new thing     | -                       |\n",
    "| PUT    | -                    | set/update thing `id`   |\n",
    "| DELETE | -                    | delete thing `id`       |"
   ]
  },
  {
   "cell_type": "code",
   "execution_count": null,
   "metadata": {},
   "outputs": [],
   "source": []
  }
 ],
 "metadata": {
  "kernelspec": {
   "display_name": "Python 3",
   "language": "python",
   "name": "python3"
  },
  "language_info": {
   "codemirror_mode": {
    "name": "ipython",
    "version": 3
   },
   "file_extension": ".py",
   "mimetype": "text/x-python",
   "name": "python",
   "nbconvert_exporter": "python",
   "pygments_lexer": "ipython3",
   "version": "3.7.9"
  }
 },
 "nbformat": 4,
 "nbformat_minor": 4
}
