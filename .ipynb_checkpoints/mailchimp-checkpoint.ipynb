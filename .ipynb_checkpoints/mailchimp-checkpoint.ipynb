{
 "cells": [
  {
   "cell_type": "markdown",
   "metadata": {},
   "source": [
    "# Mailchimp"
   ]
  },
  {
   "cell_type": "markdown",
   "metadata": {},
   "source": [
    "Mailchimp is een programma voor het versturen van mails aan groepen, bijvoorbeeld nieuwbrieven of marketing mails.\n",
    "\n",
    "Mailchimp houdt bij of de ontvangen mails ontvangen en geopend worden (en gelezen?).\n"
   ]
  },
  {
   "cell_type": "code",
   "execution_count": null,
   "metadata": {},
   "outputs": [],
   "source": [
    "import requests\n",
    "import json"
   ]
  },
  {
   "cell_type": "markdown",
   "metadata": {},
   "source": [
    "## Mailchimp begrippen"
   ]
  },
  {
   "cell_type": "markdown",
   "metadata": {},
   "source": [
    "## Mailchimp API\n",
    "\n",
    "De (marketing) API van Maichimp is beschreven op: https://mailchimp.com/developer/.\n",
    "Een goed beginpunt is de https://mailchimp.com/developer/guides/marketing-api-quick-start/.\n",
    "Hier staat ook beschreven waar hoe je aan een API key komt.\n",
    "\n",
    "* API reference: https://mailchimp.com/developer/api/marketing/"
   ]
  },
  {
   "cell_type": "markdown",
   "metadata": {},
   "source": [
    "### API keys\n",
    "\n",
    "Als je ingelogd bent brengt de url https://us10.admin.mailchimp.com/account/api/ je naar de pagina met API keys.\n",
    "\n",
    "Let op: via de API-key heeft een toepassing volledig toegang tot de account-gegevens. Zorg ervoor dat deze keys niet in verkeerde handen vallen, en beschouw deze als een username/password combinatie.\n",
    "\n",
    "Tip: maak per soort gebruik of per toepassing een aparte API key aan. Dan kun je deze ook per gebruik of toepassing weer verwijderen zonder dat dit voor de andere toepassingen gevolgen heeft.\n"
   ]
  },
  {
   "cell_type": "code",
   "execution_count": null,
   "metadata": {},
   "outputs": [],
   "source": [
    "api_key = input(\"Mailchimp API-key? \")"
   ]
  },
  {
   "cell_type": "markdown",
   "metadata": {},
   "source": [
    "## Server\n",
    "\n",
    "Je account is gebonden aan een server; deze server moet je ook opgeven in de API URL.\n",
    "Je vindt deze server in de URL in de browser als je ingelogd bent.\n",
    "Bijvoorbeeld: https://us10.admin.mailchimp.com betekent dat je server `us10` gebruikt.\n",
    "De API-server is dan: `https://us10.api.mailchimp.com`."
   ]
  },
  {
   "cell_type": "code",
   "execution_count": null,
   "metadata": {},
   "outputs": [],
   "source": [
    "mailchimp_server = 'us10'"
   ]
  },
  {
   "cell_type": "markdown",
   "metadata": {},
   "source": [
    "### Eerste test\n",
    "\n",
    "De Mailchimp-API heeft een `ping` test om te controleren of alles werkt."
   ]
  },
  {
   "cell_type": "code",
   "execution_count": null,
   "metadata": {},
   "outputs": [],
   "source": [
    "url = \"https://{server}.api.mailchimp.com/3.0/ping\".format(\n",
    "        server = mailchimp_server\n",
    "      )\n",
    "url"
   ]
  },
  {
   "cell_type": "code",
   "execution_count": null,
   "metadata": {},
   "outputs": [],
   "source": [
    "r = requests.get(url, auth=(\"user\", api_key))\n",
    "r.status_code"
   ]
  },
  {
   "cell_type": "code",
   "execution_count": null,
   "metadata": {},
   "outputs": [],
   "source": [
    "r.json()"
   ]
  },
  {
   "cell_type": "markdown",
   "metadata": {},
   "source": [
    "## Lists"
   ]
  },
  {
   "cell_type": "code",
   "execution_count": null,
   "metadata": {},
   "outputs": [],
   "source": [
    "url1 = \"https://{server}.api.mailchimp.com/3.0/lists\".format(\n",
    "        server = mailchimp_server\n",
    "      )\n",
    "url1"
   ]
  },
  {
   "cell_type": "code",
   "execution_count": null,
   "metadata": {},
   "outputs": [],
   "source": [
    "parameters = {\"fields\": \"lists.id,lists.name,lists.stats.member_count\"}\n",
    "r1 = requests.get(url1, auth=(\"user\", api_key), params=parameters)\n",
    "r1.status_code"
   ]
  },
  {
   "cell_type": "code",
   "execution_count": null,
   "metadata": {},
   "outputs": [],
   "source": [
    "r1.json()"
   ]
  },
  {
   "cell_type": "markdown",
   "metadata": {},
   "source": [
    "## List members\n",
    "\n",
    "In principe krijg je erg veel gegevens per member. Het is daarom nodig om expliciet op te geven welke gegevens je wilt hebben.\n",
    "Dit doe je met de parameter `fields`, met de lijst met veldnamen gescheiden door komma's. sub-veldnamen geef je aan met de \"dot-notation\".\n"
   ]
  },
  {
   "cell_type": "code",
   "execution_count": null,
   "metadata": {},
   "outputs": [],
   "source": [
    "parameters = {\"fields\": \"members.id,members.email_address,members.merge_fields\", \n",
    "              \"count\": 20,\n",
    "              \"offset\": 0\n",
    "             }\n",
    "\n",
    "list_id = \"2652a3638d\"\n",
    "url2 = \"https://{server}.api.mailchimp.com/3.0/lists/{listid}/members\".format(\n",
    "        server = mailchimp_server,\n",
    "        listid = list_id\n",
    "      )\n",
    "url2"
   ]
  },
  {
   "cell_type": "code",
   "execution_count": null,
   "metadata": {},
   "outputs": [],
   "source": [
    "r2 = requests.get(url2, auth=(\"user\", api_key), params=parameters)\n",
    "r2.status_code"
   ]
  },
  {
   "cell_type": "code",
   "execution_count": null,
   "metadata": {},
   "outputs": [],
   "source": [
    "r2.json()"
   ]
  },
  {
   "cell_type": "markdown",
   "metadata": {},
   "source": [
    "## Python library\n",
    "\n",
    "Er is een Python library voor Mailchimp. Deze maakt het gebruik van de API wat gemakkelijker.\n",
    "\n",
    "* https://github.com/mailchimp/mailchimp-marketing-python\n",
    "* installeren: "
   ]
  },
  {
   "cell_type": "code",
   "execution_count": null,
   "metadata": {},
   "outputs": [],
   "source": []
  }
 ],
 "metadata": {
  "kernelspec": {
   "display_name": "Python 3",
   "language": "python",
   "name": "python3"
  },
  "language_info": {
   "codemirror_mode": {
    "name": "ipython",
    "version": 3
   },
   "file_extension": ".py",
   "mimetype": "text/x-python",
   "name": "python",
   "nbconvert_exporter": "python",
   "pygments_lexer": "ipython3",
   "version": "3.7.9"
  }
 },
 "nbformat": 4,
 "nbformat_minor": 4
}
