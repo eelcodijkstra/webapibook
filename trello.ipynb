{
 "cells": [
  {
   "cell_type": "markdown",
   "metadata": {},
   "source": [
    "# Trello: plannen met kaartjes\n",
    "\n",
    "Trello is een handige toepassing gebaseerd op het model van een planbord met kaartjes.\n",
    "Dit kun je onder andere gebruiken voor een *kanban*\" planning.\n",
    "\n",
    "Trello heeft een REST API waarmee je de toepassing kunt besturen.\n",
    "Daarnaast kun je *webhooks* opgeven waarmee Trello bepaalde gebeurtenissen naar externe diensten kan signaleren.\n",
    "Bovendien heeft Trello de mogelijkheid om gegevens van andere toepassingen te bewaren,\n",
    "en om buttons voor de besturing van andere toepassingen in het user interface op te nemen.\n",
    "Dit zorgt ervoor dat Trello uitbreidbaar is, via \"power-ups\":\n",
    "een soort apps op basis van Trello.\n",
    "Ook kan Trello hiermee gekoppeld worden aan andere toepassingen (\"integrations\"),\n",
    "bijvoorbeeld een berichtendienst als Slack, agenda's en andere takenlijsten.\n"
   ]
  },
  {
   "cell_type": "markdown",
   "metadata": {},
   "source": [
    "## Concepten en terminologie\n",
    "\n",
    "Een bord (*board*) bestaat uit een reeks lijsten (*lists*) of kolommen.\n",
    "Elke lijst bevat 0 of meer kaartjes (*cards*).\n",
    "Elk bord, lijst of kaartje heeft een naam.\n",
    "\n",
    "Een kaartje kan allerlei gegevens bevatten, onder meer een todo-lijst.\n",
    "We gaan hier niet verder in de details op kaartjes."
   ]
  },
  {
   "cell_type": "markdown",
   "metadata": {},
   "source": [
    "## Notebook initialisatie"
   ]
  },
  {
   "cell_type": "code",
   "execution_count": null,
   "metadata": {},
   "outputs": [],
   "source": [
    "import requests\n",
    "import json"
   ]
  },
  {
   "cell_type": "markdown",
   "metadata": {},
   "source": [
    "## Trello API\n",
    "\n",
    "De gegevens van het Trello API vind je op: https://developer.atlassian.com/cloud/trello/rest/.\n",
    "        "
   ]
  },
  {
   "cell_type": "markdown",
   "metadata": {},
   "source": [
    "## Authenticatie en autorisatie: API-key en tokens\n",
    "\n",
    "Om de Trello API te kunnen gebruiken heb je een *token* nodig.\n",
    "De beschrijving van de authenticatie en autorisatie vind je op https://developer.atlassian.com/cloud/trello/guides/rest-api/authorization/\n",
    "De stappen hieronder zijn een uitwerking daarvan.\n",
    "\n",
    "### API-key\n",
    "\n",
    "Elke Trello-gebruiker heeft een API-key. Dit is een identificatie van de gebruiker voor de API.\n",
    "Deze key heb je onder andere nodig om een *token* aan te vragen.\n",
    "\n",
    "* log in bij Trello, en zoek je API-key op via: https://trello.com/app-key/\n",
    "* vul je API-key hieronder in (voer de cel hieronder uit):"
   ]
  },
  {
   "cell_type": "code",
   "execution_count": null,
   "metadata": {},
   "outputs": [],
   "source": [
    "api_key = input(\"API-key? \")"
   ]
  },
  {
   "cell_type": "markdown",
   "metadata": {},
   "source": [
    "### Token\n",
    "\n",
    "Voor deze oefening gebruik je een tijdelijk token.\n",
    "Dit vraag je aan via een URL in de browser.\n",
    "We maken eerst deze URL aan via Python, met behulp van je API-key.\n",
    "\n",
    "* maak de URL aan (voer de cel hieronder uit)\n",
    "* klik op de URL die als uitvoer verschijnt, en geef via de geopende webpagina toestemming voor het token\n",
    "* kopieer (\"Copy\") het token uit die webpagina om deze straks hieronder in te vullen"
   ]
  },
  {
   "cell_type": "code",
   "execution_count": null,
   "metadata": {},
   "outputs": [],
   "source": [
    "url = \"https://trello.com/1/authorize?expiration=1day&name=MyTestToken&scope=read,write&response_type=token&key=\" + api_key\n",
    "print(url)"
   ]
  },
  {
   "cell_type": "markdown",
   "metadata": {},
   "source": [
    "* vul het token hieronder in (voer de cel hieronder uit en \"Paste\"), voor gebruik in de volgende opdrachten."
   ]
  },
  {
   "cell_type": "code",
   "execution_count": 1,
   "metadata": {},
   "outputs": [
    {
     "name": "stdin",
     "output_type": "stream",
     "text": [
      "token?  ?\n"
     ]
    }
   ],
   "source": [
    "token = input(\"token? \")"
   ]
  },
  {
   "cell_type": "code",
   "execution_count": null,
   "metadata": {},
   "outputs": [],
   "source": [
    "## Borden\n",
    "\n",
    "Vraag de namen van je borden op (als je die hebt), met hun ID's.\n",
    "Deze ID's heb je later nodig in de API."
   ]
  },
  {
   "cell_type": "code",
   "execution_count": null,
   "metadata": {},
   "outputs": [],
   "source": []
  },
  {
   "cell_type": "code",
   "execution_count": null,
   "metadata": {},
   "outputs": [],
   "source": [
    "Geef op welk bord je in de volgende opdrachten wilt gebruiken:"
   ]
  },
  {
   "cell_type": "code",
   "execution_count": null,
   "metadata": {},
   "outputs": [],
   "source": [
    "## Lijsten\n",
    "\n",
    "Vraag de lijsten op n"
   ]
  },
  {
   "cell_type": "code",
   "execution_count": null,
   "metadata": {},
   "outputs": [],
   "source": [
    "### Maak een nieuw bord aan"
   ]
  },
  {
   "cell_type": "code",
   "execution_count": null,
   "metadata": {},
   "outputs": [],
   "source": [
    "bordnaam = \"API-testbord\"\n"
   ]
  },
  {
   "cell_type": "code",
   "execution_count": null,
   "metadata": {},
   "outputs": [],
   "source": [
    "url = \"https://api.trello.com/1/members/me/boards\"\n",
    "\n",
    "headers = {\n",
    "   \"Accept\": \"application/json\"\n",
    "}\n",
    "\n",
    "query = {\n",
    "   'key': api_key,\n",
    "   'token': token\n",
    "}\n",
    "\n",
    "response = requests.request(\n",
    "   \"GET\",\n",
    "   url,\n",
    "   headers=headers,\n",
    "   params=query\n",
    ")"
   ]
  },
  {
   "cell_type": "code",
   "execution_count": null,
   "metadata": {},
   "outputs": [],
   "source": [
    "response"
   ]
  },
  {
   "cell_type": "code",
   "execution_count": null,
   "metadata": {},
   "outputs": [],
   "source": [
    "boards = response.json()"
   ]
  },
  {
   "cell_type": "code",
   "execution_count": null,
   "metadata": {},
   "outputs": [],
   "source": [
    "for board in boards:\n",
    "    print(board[\"name\"], \" - \", board[\"id\"])"
   ]
  },
  {
   "cell_type": "code",
   "execution_count": null,
   "metadata": {},
   "outputs": [],
   "source": [
    "url1 = \"https://api.trello.com/1/board/\" + \"52493e119ba1b91046002d9e\" + \"/lists\"\n",
    "\n",
    "response1 = requests.request(\n",
    "   \"GET\",\n",
    "   url1,\n",
    "   headers=headers,\n",
    "   params=query\n",
    ")"
   ]
  },
  {
   "cell_type": "code",
   "execution_count": null,
   "metadata": {},
   "outputs": [],
   "source": [
    "response1"
   ]
  },
  {
   "cell_type": "code",
   "execution_count": null,
   "metadata": {},
   "outputs": [],
   "source": [
    "lists = response1.json()\n",
    "for list in lists:\n",
    "    print(list[\"name\"], \" - \", list[\"id\"])"
   ]
  },
  {
   "cell_type": "code",
   "execution_count": null,
   "metadata": {},
   "outputs": [],
   "source": [
    "url2 = \"https://api.trello.com/1/lists/\" + \"52493e119ba1b91046002d9f\" + \"/cards\"\n",
    "response2 = requests.request(\n",
    "   \"GET\",\n",
    "   url2,\n",
    "   headers=headers,\n",
    "   params=query\n",
    ")"
   ]
  },
  {
   "cell_type": "code",
   "execution_count": null,
   "metadata": {},
   "outputs": [],
   "source": [
    "response2"
   ]
  },
  {
   "cell_type": "code",
   "execution_count": null,
   "metadata": {},
   "outputs": [],
   "source": [
    "response2.json()"
   ]
  },
  {
   "cell_type": "code",
   "execution_count": null,
   "metadata": {},
   "outputs": [],
   "source": [
    "cards = response2.json()\n",
    "for card in cards:\n",
    "    print(card[\"name\"], \" - \", card[\"id\"])"
   ]
  },
  {
   "cell_type": "code",
   "execution_count": null,
   "metadata": {},
   "outputs": [],
   "source": [
    "print(json.dumps(json.loads(response.text), sort_keys=True, indent=4, separators=(\",\", \": \")))?"
   ]
  },
  {
   "cell_type": "code",
   "execution_count": null,
   "metadata": {},
   "outputs": [],
   "source": []
  },
  {
   "cell_type": "code",
   "execution_count": null,
   "metadata": {},
   "outputs": [],
   "source": []
  },
  {
   "cell_type": "markdown",
   "metadata": {},
   "source": [
    "### Maak nieuwe lijsten aan\n",
    "\n",
    "Op dit bord maak je de lijsten aan: \"Backlog\", \"ToDo\", \"Doing\", \"Testing\", \"Done\", en \"Archive\"\n",
    "\n"
   ]
  },
  {
   "cell_type": "code",
   "execution_count": null,
   "metadata": {},
   "outputs": [],
   "source": [
    "response"
   ]
  },
  {
   "cell_type": "code",
   "execution_count": null,
   "metadata": {},
   "outputs": [],
   "source": [
    "api_key"
   ]
  },
  {
   "cell_type": "code",
   "execution_count": null,
   "metadata": {},
   "outputs": [],
   "source": [
    "token"
   ]
  },
  {
   "cell_type": "markdown",
   "metadata": {},
   "source": [
    "## Opmerkingen\n",
    "\n",
    "* in de code moeten we rekening houden met het resultaat van de response. Alleen als het resultaat \"200\" is, mogen we de inhoud (json) opvragen.\n",
    "* kunnen we handig gebruik maken van Python format strings, voor het maken van de URLs?\n",
    "* HTTP goed uitleggen, verschil tussen parameters en body/payload/"
   ]
  },
  {
   "cell_type": "code",
   "execution_count": null,
   "metadata": {},
   "outputs": [],
   "source": []
  }
 ],
 "metadata": {
  "kernelspec": {
   "display_name": "Python 3",
   "language": "python",
   "name": "python3"
  },
  "language_info": {
   "codemirror_mode": {
    "name": "ipython",
    "version": 3
   },
   "file_extension": ".py",
   "mimetype": "text/x-python",
   "name": "python",
   "nbconvert_exporter": "python",
   "pygments_lexer": "ipython3",
   "version": "3.7.9"
  }
 },
 "nbformat": 4,
 "nbformat_minor": 4
}
